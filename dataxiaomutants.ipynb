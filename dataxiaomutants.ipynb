{
 "cells": [
  {
   "cell_type": "code",
   "execution_count": 1,
   "id": "30766cc6",
   "metadata": {
    "_cell_guid": "acf5fb12-b47a-4a20-8172-abe15a691c0b",
    "_uuid": "27429ff5-478f-44c9-aa12-5bab3a31b812",
    "collapsed": false,
    "execution": {
     "iopub.execute_input": "2023-05-07T15:59:46.869033Z",
     "iopub.status.busy": "2023-05-07T15:59:46.868595Z",
     "iopub.status.idle": "2023-05-07T15:59:47.922082Z",
     "shell.execute_reply": "2023-05-07T15:59:47.920628Z"
    },
    "jupyter": {
     "outputs_hidden": false
    },
    "papermill": {
     "duration": 1.065935,
     "end_time": "2023-05-07T15:59:47.924898",
     "exception": false,
     "start_time": "2023-05-07T15:59:46.858963",
     "status": "completed"
    },
    "tags": []
   },
   "outputs": [
    {
     "name": "stdout",
     "output_type": "stream",
     "text": [
      "Setup Complete\n"
     ]
    }
   ],
   "source": [
    "import pandas as pd\n",
    "import numpy as np\n",
    "pd.plotting.register_matplotlib_converters()\n",
    "import matplotlib.pyplot as plt\n",
    "%matplotlib inline\n",
    "import seaborn as sns\n",
    "print(\"Setup Complete\")"
   ]
  },
  {
   "cell_type": "code",
   "execution_count": 2,
   "id": "69a17f88",
   "metadata": {
    "_cell_guid": "cc35ec18-21e7-469f-b35d-ed453bd6d133",
    "_uuid": "33966968-fd2e-49c7-bf0e-b7647189f7d3",
    "collapsed": false,
    "execution": {
     "iopub.execute_input": "2023-05-07T15:59:47.940333Z",
     "iopub.status.busy": "2023-05-07T15:59:47.939944Z",
     "iopub.status.idle": "2023-05-07T15:59:47.963961Z",
     "shell.execute_reply": "2023-05-07T15:59:47.962800Z"
    },
    "jupyter": {
     "outputs_hidden": false
    },
    "papermill": {
     "duration": 0.035202,
     "end_time": "2023-05-07T15:59:47.966982",
     "exception": false,
     "start_time": "2023-05-07T15:59:47.931780",
     "status": "completed"
    },
    "tags": []
   },
   "outputs": [],
   "source": [
    "# Path of the file to read\n",
    "xiao_filepath = \"/kaggle/input/allmutants/Qa raw data.csv\"\n",
    "\n",
    "# Read the file into a variable fifa_data\n",
    "xiao_data = pd.read_csv(xiao_filepath, delimiter=\";\")"
   ]
  },
  {
   "cell_type": "code",
   "execution_count": 3,
   "id": "7b37f087",
   "metadata": {
    "_cell_guid": "d0c48b35-e6c3-4e56-9448-18bba48cd7db",
    "_uuid": "aa95e984-6181-4c12-b975-73cb1b4b94fd",
    "collapsed": false,
    "execution": {
     "iopub.execute_input": "2023-05-07T15:59:47.982450Z",
     "iopub.status.busy": "2023-05-07T15:59:47.982031Z",
     "iopub.status.idle": "2023-05-07T15:59:48.009756Z",
     "shell.execute_reply": "2023-05-07T15:59:48.008540Z"
    },
    "jupyter": {
     "outputs_hidden": false
    },
    "papermill": {
     "duration": 0.038797,
     "end_time": "2023-05-07T15:59:48.012385",
     "exception": false,
     "start_time": "2023-05-07T15:59:47.973588",
     "status": "completed"
    },
    "tags": []
   },
   "outputs": [
    {
     "name": "stdout",
     "output_type": "stream",
     "text": [
      "    Time (s) DN405_DCMU DN405_DCMU.1 DN405_DCMU.2    DN405  DN405.1  DN405.2  \\\n",
      "0   2,05E-04    0,56451      0,57001      0,56598  0,56653  0,56854  0,57458   \n",
      "1   4,05E-04    0,57275      0,57166      0,57056  0,57385  0,56323   0,5788   \n",
      "2   6,05E-04    0,57825       0,5766       0,5733  0,57239  0,57513  0,57953   \n",
      "3   8,05E-04    0,57843      0,57294      0,57458  0,57495  0,57275  0,58337   \n",
      "4    0,00107    0,83038      0,82672      0,82452   0,8139  0,82434  0,83386   \n",
      "5    0,00111    0,83459       0,8291      0,82654  0,80493  0,80548  0,82654   \n",
      "6    0,00115    0,84009      0,82928      0,82745  0,78882  0,80182  0,81299   \n",
      "7    0,00122    0,83698      0,83295      0,83203  0,77197  0,78992  0,79907   \n",
      "8    0,00132    0,84119      0,84192      0,83331  0,75751  0,77142  0,78186   \n",
      "9    0,00147    0,84155      0,83496      0,83844  0,74359  0,74689  0,76208   \n",
      "10   0,00169    0,84448      0,83844        0,828  0,72546  0,72565  0,74066   \n",
      "11   0,00201    0,83899      0,83038       0,8335  0,69745  0,70789  0,71558   \n",
      "12   0,00247    0,84265      0,83386      0,83661  0,68518  0,69031  0,69928   \n",
      "13   0,00316    0,84814      0,83185      0,83112  0,67053  0,67804  0,68152   \n",
      "14   0,00417    0,83862      0,83368      0,83514  0,65881  0,66229  0,67035   \n",
      "15   0,00565    0,83405      0,82489       0,8302  0,64819  0,64673  0,66138   \n",
      "16   0,00782    0,83331      0,82947      0,83405  0,63263  0,64032  0,65131   \n",
      "17   0,01101    0,83496      0,83167      0,83075  0,62604  0,63409  0,64197   \n",
      "18   0,01568    0,83734      0,83038      0,82581  0,62476  0,62952  0,63538   \n",
      "19   0,02255    0,83075      0,82379      0,82434  0,62531  0,63025  0,63519   \n",
      "20   0,03263    0,83057      0,81976      0,82178  0,61395  0,62036  0,63757   \n",
      "21   0,04742    0,82397        0,815      0,81537  0,61176  0,62054  0,63226   \n",
      "22   0,06913    0,81573      0,82178      0,81134  0,62054  0,61761  0,63098   \n",
      "23   0,10101     0,8064      0,80383      0,79834  0,61835  0,61963  0,62585   \n",
      "24   0,14778    0,79724      0,79303       0,7923  0,61267  0,61249  0,62567   \n",
      "25   0,21645    0,77765      0,77325       0,7738  0,61633  0,61652  0,62128   \n",
      "26   0,31723    0,75769      0,75439      0,75311  0,61157  0,61395  0,61926   \n",
      "27   0,46516     0,7337      0,72986      0,72894  0,60901  0,60754  0,61981   \n",
      "28    0,6823     0,7088      0,69763      0,70386  0,60425  0,60699  0,61688   \n",
      "29   1,00101    0,67548       0,6665      0,67419  0,60681  0,59766  0,61432   \n",
      "30    1,4688    0,64764      0,64233      0,64142  0,59235  0,59564  0,60406   \n",
      "31   2,15544    0,61798      0,61542      0,62238  0,59106   0,5885  0,59399   \n",
      "32   3,16328    0,60022       0,5929      0,59875  0,58337  0,58795  0,59784   \n",
      "33   4,64259    0,58447      0,58612      0,58612  0,58337  0,58118  0,58795   \n",
      "34   6,81393    0,57349      0,57037      0,57422  0,58026  0,57971  0,59216   \n",
      "35  10,00101    0,57422      0,56927      0,56726   0,5766  0,57825   0,5874   \n",
      "36    14,679    0,56927      0,56598      0,57019  0,58099  0,57349  0,58154   \n",
      "37  21,54535    0,57404      0,56799      0,56287  0,57495  0,57037  0,58612   \n",
      "38  31,62378    0,56525      0,56305      0,56616  0,57458  0,56763  0,58008   \n",
      "39  46,41689    0,56671      0,56561      0,56506  0,56763  0,56598  0,57605   \n",
      "\n",
      "   DN407_DCMU DN407_DCMU.1 DN407_DCMU.2  ... XW11_DCMU.2     XW11   XW11.1  \\\n",
      "0      1,3943       1,3405         1,35  ...     0,87085  0,84979  0,82288   \n",
      "1      1,3949       1,3369       1,3477  ...     0,86682  0,85199  0,82654   \n",
      "2      1,3934       1,3445         1,35  ...      0,8736  0,85474  0,82855   \n",
      "3      1,3932       1,3453       1,3493  ...     0,87689  0,85748  0,83112   \n",
      "4      1,4487        1,389       1,4019  ...     0,94025  0,92596  0,90564   \n",
      "5      1,4319       1,3792       1,3909  ...     0,93896  0,91443  0,89355   \n",
      "6      1,4319       1,3837       1,3863  ...     0,93201  0,91003  0,89227   \n",
      "7      1,4291       1,3817       1,3868  ...     0,94135  0,91187  0,88678   \n",
      "8      1,4279       1,3762       1,3828  ...     0,93823  0,90472  0,88513   \n",
      "9      1,4269       1,3867        1,381  ...     0,93365  0,90656  0,87964   \n",
      "10     1,4319       1,3843       1,3812  ...     0,93036  0,90033  0,87543   \n",
      "11     1,4269       1,3793       1,3867  ...     0,93604   0,8941  0,87231   \n",
      "12     1,4313       1,3733       1,3856  ...      0,9353  0,89337  0,86938   \n",
      "13     1,4275       1,3792       1,3817  ...     0,93091  0,88605  0,86591   \n",
      "14     1,4313        1,374       1,3846  ...      0,9386   0,8855  0,86188   \n",
      "15     1,4335       1,3781       1,3867  ...     0,93384  0,88422  0,86005   \n",
      "16     1,4301       1,3799        1,387  ...     0,92816  0,88275  0,85986   \n",
      "17     1,4269        1,381       1,3892  ...     0,93292  0,87744  0,85291   \n",
      "18     1,4312       1,3775       1,3835  ...     0,93292  0,87689  0,85144   \n",
      "19     1,4293       1,3771       1,3837  ...     0,92963  0,87689  0,84943   \n",
      "20     1,4332       1,3788       1,3793  ...     0,93073  0,87067  0,85657   \n",
      "21     1,4229       1,3737       1,3832  ...     0,93256   0,8725  0,85272   \n",
      "22      1,431       1,3784       1,3804  ...     0,92761  0,86938  0,84613   \n",
      "23      1,428       1,3737       1,3815  ...      0,9342   0,8703  0,84851   \n",
      "24     1,4326       1,3724        1,383  ...     0,92761  0,87433  0,84668   \n",
      "25      1,422       1,3689        1,379  ...     0,92633  0,87122  0,84064   \n",
      "26     1,4161       1,3716       1,3784  ...     0,91754  0,86627  0,84393   \n",
      "27      1,418       1,3654       1,3711  ...     0,91718  0,86938  0,84338   \n",
      "28     1,4119       1,3621       1,3722  ...     0,90875  0,86444   0,8432   \n",
      "29     1,4134       1,3542       1,3685  ...     0,90051  0,86261  0,84045   \n",
      "30     1,3995       1,3548       1,3649  ...     0,90015  0,87122  0,83643   \n",
      "31     1,4022       1,3515       1,3537  ...     0,88733  0,86737  0,83954   \n",
      "32     1,4048       1,3477       1,3579  ...     0,88568  0,85565  0,83514   \n",
      "33     1,3987       1,3478       1,3488  ...     0,87671  0,85986  0,83331   \n",
      "34     1,3965       1,3407       1,3471  ...     0,87579  0,85565   0,8291   \n",
      "35      1,396       1,3473       1,3499  ...     0,87854  0,85327  0,83057   \n",
      "36     1,3905       1,3414       1,3453  ...     0,87103  0,85364  0,81921   \n",
      "37     1,3947       1,3458       1,3455  ...     0,86554  0,85437  0,82965   \n",
      "38     1,3927       1,3405       1,3464  ...       0,867  0,84869  0,82837   \n",
      "39     1,3954       1,3387       1,3504  ...     0,87433  0,85474  0,82892   \n",
      "\n",
      "     XW11.2 XW12_DCMU XW12_DCMU.1 XW12_DCMU.2     XW12   XW12.1   XW12.2  \n",
      "0   0,82544    0,9743     0,95984     0,98145  0,97284  0,96332  0,99756  \n",
      "1   0,82544   0,97064     0,96185     0,98364  0,98419  0,96167  0,99115  \n",
      "2   0,82855   0,97394     0,96442     0,98218  0,97614  0,96313  0,99884  \n",
      "3    0,8302   0,97101     0,96991     0,98804  0,98071  0,96863  0,99481  \n",
      "4   0,90326    1,0117     0,99609      1,0226   1,0193   1,0071   1,0364  \n",
      "5   0,89392    1,0016     0,99335      1,0161   1,0151   1,0023   1,0311  \n",
      "6   0,88788    1,0005     0,99023      1,0166   1,0084  0,99536   1,0276  \n",
      "7   0,88385   0,99719     0,99042       1,015   1,0012   0,9939   1,0232  \n",
      "8   0,89008    1,0036     0,98511        1,01   1,0052   0,9884   1,0201  \n",
      "9   0,88239   0,99628     0,98639      1,0153   1,0007  0,99115   1,0228  \n",
      "10  0,87854   0,99701     0,98859      1,0146  0,99884  0,98291   1,0197  \n",
      "11  0,87177    1,0018     0,98639      1,0157    0,995  0,98328   1,0181  \n",
      "12  0,86536    1,0014     0,98895      1,0142   0,9928  0,98126   1,0144  \n",
      "13  0,86353   0,99646     0,98584      1,0124  0,99207  0,97742   1,0084  \n",
      "14  0,86096    1,0018     0,98932       1,012  0,98785  0,97687   1,0089  \n",
      "15   0,8573   0,99811      0,9906       1,008  0,98859   0,9743   1,0078  \n",
      "16  0,85309   0,99756     0,99042      1,0122  0,98529  0,97852   1,0051  \n",
      "17  0,85345   0,99261     0,98383      1,0065  0,98419  0,97467   1,0007  \n",
      "18  0,85583   0,99829     0,99243      1,0104  0,98273   0,9776   1,0016  \n",
      "19  0,85272   0,99371     0,98236      1,0095  0,98804  0,97284   1,0036  \n",
      "20  0,84705   0,99298     0,98969      1,0109  0,98254  0,97595   1,0014  \n",
      "21  0,84723   0,99774     0,98163      1,0043   0,9873  0,96826   1,0012  \n",
      "22  0,84613   0,99445     0,98547      1,0052  0,98163  0,96863   1,0021  \n",
      "23   0,8476   0,99591     0,98401      1,0032  0,98218  0,97211  0,99994  \n",
      "24  0,85034   0,99078     0,97925      1,0067  0,98309  0,97266  0,99591  \n",
      "25  0,84576   0,99683     0,97632     0,99628  0,98364  0,97028   1,0014  \n",
      "26  0,84503   0,99005      0,9765      1,0117  0,98383  0,97028   1,0005  \n",
      "27  0,84503   0,98145     0,97577     0,99811   0,9873  0,96844  0,99609  \n",
      "28    0,841   0,98071     0,97064     0,99664  0,98584  0,97028  0,99646  \n",
      "29  0,83807   0,98163     0,96826     0,99554  0,98053  0,96844   1,0007  \n",
      "30  0,84027   0,97797     0,96844      0,9939  0,98456  0,96735  0,99829  \n",
      "31  0,83716   0,97723     0,96313     0,98602  0,98126   0,9646  0,99994  \n",
      "32  0,83734   0,97229     0,96039     0,98346  0,98199  0,96698   1,0036  \n",
      "33  0,83331   0,97339     0,95966     0,98291  0,98236   0,9668   1,0012  \n",
      "34   0,8324   0,97192     0,96112     0,98437  0,98456  0,96167  0,99408  \n",
      "35  0,82764   0,97046      0,9657     0,98419  0,98181  0,96954  0,99957  \n",
      "36  0,82983   0,97009      0,9624     0,98712  0,97742   0,9668    1,001  \n",
      "37    0,828   0,97302     0,95911     0,98437  0,97668  0,96698  0,99573  \n",
      "38   0,8269   0,97101     0,96313     0,98309  0,97998  0,96423  0,99847  \n",
      "39  0,82855   0,97192     0,96167     0,98328  0,98273  0,96167  0,99298  \n",
      "\n",
      "[40 rows x 49 columns]\n"
     ]
    }
   ],
   "source": [
    "print(xiao_data)"
   ]
  },
  {
   "cell_type": "code",
   "execution_count": 4,
   "id": "0cadbe04",
   "metadata": {
    "_cell_guid": "2cb26af7-43f0-4cc1-9738-4bed47f07f9d",
    "_uuid": "fbb2064f-e7af-4a3a-a928-7c0246496f3d",
    "collapsed": false,
    "execution": {
     "iopub.execute_input": "2023-05-07T15:59:48.028852Z",
     "iopub.status.busy": "2023-05-07T15:59:48.027740Z",
     "iopub.status.idle": "2023-05-07T15:59:48.037025Z",
     "shell.execute_reply": "2023-05-07T15:59:48.035717Z"
    },
    "jupyter": {
     "outputs_hidden": false
    },
    "papermill": {
     "duration": 0.019772,
     "end_time": "2023-05-07T15:59:48.039230",
     "exception": false,
     "start_time": "2023-05-07T15:59:48.019458",
     "status": "completed"
    },
    "tags": []
   },
   "outputs": [
    {
     "data": {
      "text/plain": [
       "Index(['Time (s)', 'DN405_DCMU', 'DN405_DCMU.1', 'DN405_DCMU.2', 'DN405',\n",
       "       'DN405.1', 'DN405.2', 'DN407_DCMU', 'DN407_DCMU.1', 'DN407_DCMU.2',\n",
       "       'DN407', 'DN407.1', 'DN407.2', 'XW02_DCMU', 'XW02_DCMU.1',\n",
       "       'XW02_DCMU.2', 'XW02', 'XW02.1', 'XW02.2', 'XW04_DCMU', 'XW04_DCMU.1',\n",
       "       'XW04_DCMU.2', 'XW04', 'XW04.1', 'XW04.2', 'XW05_DCMU', 'XW05_DCMU.1',\n",
       "       'XW05_DCMU.2', 'XW05', 'XW05.1', 'XW05.2', 'XW06_DCMU', 'XW06_DCMU.1',\n",
       "       'XW06_DCMU.2', 'XW06', 'XW06.1', 'XW06.2', 'XW11_DCMU', 'XW11_DCMU.1',\n",
       "       'XW11_DCMU.2', 'XW11', 'XW11.1', 'XW11.2', 'XW12_DCMU', 'XW12_DCMU.1',\n",
       "       'XW12_DCMU.2', 'XW12', 'XW12.1', 'XW12.2'],\n",
       "      dtype='object')"
      ]
     },
     "execution_count": 4,
     "metadata": {},
     "output_type": "execute_result"
    }
   ],
   "source": [
    "xiao_data.columns"
   ]
  },
  {
   "cell_type": "code",
   "execution_count": 5,
   "id": "3cbdb14a",
   "metadata": {
    "_cell_guid": "f9d5ce66-ed72-4c9c-a249-81c3ce0114ef",
    "_uuid": "e3b48c50-ae0a-4e5c-9f72-21f19b6cd940",
    "collapsed": false,
    "execution": {
     "iopub.execute_input": "2023-05-07T15:59:48.055889Z",
     "iopub.status.busy": "2023-05-07T15:59:48.054781Z",
     "iopub.status.idle": "2023-05-07T15:59:48.816364Z",
     "shell.execute_reply": "2023-05-07T15:59:48.815096Z"
    },
    "jupyter": {
     "outputs_hidden": false
    },
    "papermill": {
     "duration": 0.773369,
     "end_time": "2023-05-07T15:59:48.819596",
     "exception": false,
     "start_time": "2023-05-07T15:59:48.046227",
     "status": "completed"
    },
    "tags": []
   },
   "outputs": [
    {
     "data": {
      "text/plain": [
       "<AxesSubplot:xlabel='Time (s)', ylabel='XW04'>"
      ]
     },
     "execution_count": 5,
     "metadata": {},
     "output_type": "execute_result"
    },
    {
     "data": {
      "image/png": "[encoded data removed]",
      "text/plain": [
       "<Figure size 640x480 with 1 Axes>"
      ]
     },
     "metadata": {},
     "output_type": "display_data"
    }
   ],
   "source": [
    "sns.scatterplot(x=xiao_data[\"Time (s)\"], y=xiao_data['XW04'])"
   ]
  },
  {
   "cell_type": "code",
   "execution_count": 6,
   "id": "4f0f3788",
   "metadata": {
    "_cell_guid": "58dd8769-0506-4ea0-81a7-51039bededac",
    "_uuid": "8beba233-7507-4a1e-9193-562850f4afe8",
    "collapsed": false,
    "execution": {
     "iopub.execute_input": "2023-05-07T15:59:48.838204Z",
     "iopub.status.busy": "2023-05-07T15:59:48.837780Z",
     "iopub.status.idle": "2023-05-07T15:59:48.881433Z",
     "shell.execute_reply": "2023-05-07T15:59:48.880387Z"
    },
    "jupyter": {
     "outputs_hidden": false
    },
    "papermill": {
     "duration": 0.056523,
     "end_time": "2023-05-07T15:59:48.884646",
     "exception": false,
     "start_time": "2023-05-07T15:59:48.828123",
     "status": "completed"
    },
    "tags": []
   },
   "outputs": [
    {
     "name": "stdout",
     "output_type": "stream",
     "text": [
      "Time (s)        float64\n",
      "DN405_DCMU      float64\n",
      "DN405_DCMU.1    float64\n",
      "DN405_DCMU.2    float64\n",
      "DN405           float64\n",
      "DN405.1         float64\n",
      "DN405.2         float64\n",
      "DN407_DCMU      float64\n",
      "DN407_DCMU.1    float64\n",
      "DN407_DCMU.2    float64\n",
      "DN407           float64\n",
      "DN407.1         float64\n",
      "DN407.2         float64\n",
      "XW02_DCMU       float64\n",
      "XW02_DCMU.1     float64\n",
      "XW02_DCMU.2     float64\n",
      "XW02            float64\n",
      "XW02.1          float64\n",
      "XW02.2          float64\n",
      "XW04_DCMU       float64\n",
      "XW04_DCMU.1     float64\n",
      "XW04_DCMU.2     float64\n",
      "XW04            float64\n",
      "XW04.1          float64\n",
      "XW04.2          float64\n",
      "XW05_DCMU       float64\n",
      "XW05_DCMU.1     float64\n",
      "XW05_DCMU.2     float64\n",
      "XW05            float64\n",
      "XW05.1          float64\n",
      "XW05.2          float64\n",
      "XW06_DCMU       float64\n",
      "XW06_DCMU.1     float64\n",
      "XW06_DCMU.2     float64\n",
      "XW06            float64\n",
      "XW06.1          float64\n",
      "XW06.2          float64\n",
      "XW11_DCMU       float64\n",
      "XW11_DCMU.1     float64\n",
      "XW11_DCMU.2     float64\n",
      "XW11            float64\n",
      "XW11.1          float64\n",
      "XW11.2          float64\n",
      "XW12_DCMU       float64\n",
      "XW12_DCMU.1     float64\n",
      "XW12_DCMU.2     float64\n",
      "XW12            float64\n",
      "XW12.1          float64\n",
      "XW12.2          float64\n",
      "dtype: object\n"
     ]
    }
   ],
   "source": [
    "columns_to_convert = [\"Time (s)\",'DN405_DCMU', 'DN405_DCMU.1', 'DN405_DCMU.2','DN405', 'DN405.1', 'DN405.2', 'DN407_DCMU', 'DN407_DCMU.1', 'DN407_DCMU.2',                      'DN407', 'DN407.1', 'DN407.2', 'XW02_DCMU', 'XW02_DCMU.1', 'XW02_DCMU.2',                      'XW02', 'XW02.1', 'XW02.2', 'XW04_DCMU', 'XW04_DCMU.1', 'XW04_DCMU.2',                      'XW04', 'XW04.1', 'XW04.2', 'XW05_DCMU', 'XW05_DCMU.1', 'XW05_DCMU.2',                      'XW05', 'XW05.1', 'XW05.2', 'XW06_DCMU', 'XW06_DCMU.1', 'XW06_DCMU.2',                      'XW06', 'XW06.1', 'XW06.2', 'XW11_DCMU', 'XW11_DCMU.1', 'XW11_DCMU.2',                      'XW11', 'XW11.1', 'XW11.2', 'XW12_DCMU', 'XW12_DCMU.1', 'XW12_DCMU.2',                      'XW12', 'XW12.1', 'XW12.2']\n",
    "\n",
    "for column in columns_to_convert:\n",
    "    if xiao_data[column].dtype == 'object':\n",
    "        xiao_data[column] = pd.to_numeric(xiao_data[column].str.replace(',', '.'), errors='coerce')\n",
    "\n",
    "\n",
    "\n",
    "print(xiao_data.dtypes)"
   ]
  },
  {
   "cell_type": "code",
   "execution_count": 7,
   "id": "3369dcea",
   "metadata": {
    "_cell_guid": "10faa986-4a9e-4efa-92ba-6a88fe6112b7",
    "_uuid": "bb3b8f45-03c6-44ad-a3f5-6687928be711",
    "collapsed": false,
    "execution": {
     "iopub.execute_input": "2023-05-07T15:59:48.902604Z",
     "iopub.status.busy": "2023-05-07T15:59:48.902246Z",
     "iopub.status.idle": "2023-05-07T15:59:48.944211Z",
     "shell.execute_reply": "2023-05-07T15:59:48.943247Z"
    },
    "jupyter": {
     "outputs_hidden": false
    },
    "papermill": {
     "duration": 0.054127,
     "end_time": "2023-05-07T15:59:48.946939",
     "exception": false,
     "start_time": "2023-05-07T15:59:48.892812",
     "status": "completed"
    },
    "tags": []
   },
   "outputs": [],
   "source": [
    "# create list of column names containing \".2\"\n",
    "column_names = [col for col in xiao_data.columns if \".2\" in col]\n",
    "\n",
    "# loop through column names and create new columns with averaged values\n",
    "for name in column_names:\n",
    "    # get index of current column\n",
    "    idx = xiao_data.columns.get_loc(name)\n",
    "    \n",
    "    # get indices of preceding and following columns\n",
    "    prev_idx = idx - 1\n",
    "    prev_prev_idx = idx -2\n",
    "    \n",
    "    # create new column name\n",
    "    new_col_name = name.replace(\".2\", \"\") + \"_avg\"\n",
    "    \n",
    "    # compute average of current column and its neighbors\n",
    "    new_col_data = xiao_data.iloc[:, [prev_idx, idx, prev_prev_idx]].select_dtypes(include=np.number).mean(axis=1)\n",
    "    \n",
    "    # add new column to dataframe\n",
    "    xiao_data[new_col_name] = new_col_data"
   ]
  },
  {
   "cell_type": "code",
   "execution_count": 8,
   "id": "75751ca6",
   "metadata": {
    "_cell_guid": "c9aa0673-7132-4e38-a280-c68c41e502bc",
    "_uuid": "3f44404e-a541-47f2-90cb-e1ac629a182a",
    "collapsed": false,
    "execution": {
     "iopub.execute_input": "2023-05-07T15:59:48.964909Z",
     "iopub.status.busy": "2023-05-07T15:59:48.964526Z",
     "iopub.status.idle": "2023-05-07T15:59:48.971477Z",
     "shell.execute_reply": "2023-05-07T15:59:48.970441Z"
    },
    "jupyter": {
     "outputs_hidden": false
    },
    "papermill": {
     "duration": 0.018658,
     "end_time": "2023-05-07T15:59:48.973911",
     "exception": false,
     "start_time": "2023-05-07T15:59:48.955253",
     "status": "completed"
    },
    "tags": []
   },
   "outputs": [
    {
     "data": {
      "text/plain": [
       "Index(['Time (s)', 'DN405_DCMU', 'DN405_DCMU.1', 'DN405_DCMU.2', 'DN405',\n",
       "       'DN405.1', 'DN405.2', 'DN407_DCMU', 'DN407_DCMU.1', 'DN407_DCMU.2',\n",
       "       'DN407', 'DN407.1', 'DN407.2', 'XW02_DCMU', 'XW02_DCMU.1',\n",
       "       'XW02_DCMU.2', 'XW02', 'XW02.1', 'XW02.2', 'XW04_DCMU', 'XW04_DCMU.1',\n",
       "       'XW04_DCMU.2', 'XW04', 'XW04.1', 'XW04.2', 'XW05_DCMU', 'XW05_DCMU.1',\n",
       "       'XW05_DCMU.2', 'XW05', 'XW05.1', 'XW05.2', 'XW06_DCMU', 'XW06_DCMU.1',\n",
       "       'XW06_DCMU.2', 'XW06', 'XW06.1', 'XW06.2', 'XW11_DCMU', 'XW11_DCMU.1',\n",
       "       'XW11_DCMU.2', 'XW11', 'XW11.1', 'XW11.2', 'XW12_DCMU', 'XW12_DCMU.1',\n",
       "       'XW12_DCMU.2', 'XW12', 'XW12.1', 'XW12.2', 'DN405_DCMU_avg',\n",
       "       'DN405_avg', 'DN407_DCMU_avg', 'DN407_avg', 'XW02_DCMU_avg', 'XW02_avg',\n",
       "       'XW04_DCMU_avg', 'XW04_avg', 'XW05_DCMU_avg', 'XW05_avg',\n",
       "       'XW06_DCMU_avg', 'XW06_avg', 'XW11_DCMU_avg', 'XW11_avg',\n",
       "       'XW12_DCMU_avg', 'XW12_avg'],\n",
       "      dtype='object')"
      ]
     },
     "execution_count": 8,
     "metadata": {},
     "output_type": "execute_result"
    }
   ],
   "source": [
    "xiao_data.columns"
   ]
  },
  {
   "cell_type": "code",
   "execution_count": 9,
   "id": "702e644c",
   "metadata": {
    "_cell_guid": "f53557e5-b613-4c1d-a3d4-b796e69e6293",
    "_uuid": "1e7563df-ca71-4313-aaf3-2c91953980cb",
    "collapsed": false,
    "execution": {
     "iopub.execute_input": "2023-05-07T15:59:48.992531Z",
     "iopub.status.busy": "2023-05-07T15:59:48.991420Z",
     "iopub.status.idle": "2023-05-07T15:59:49.016713Z",
     "shell.execute_reply": "2023-05-07T15:59:49.015569Z"
    },
    "jupyter": {
     "outputs_hidden": false
    },
    "papermill": {
     "duration": 0.038022,
     "end_time": "2023-05-07T15:59:49.020342",
     "exception": false,
     "start_time": "2023-05-07T15:59:48.982320",
     "status": "completed"
    },
    "tags": []
   },
   "outputs": [
    {
     "name": "stdout",
     "output_type": "stream",
     "text": [
      "     Time (s)  DN405_DCMU  DN405_DCMU.1  DN405_DCMU.2    DN405  DN405.1  \\\n",
      "0    0.000205     0.56451       0.57001       0.56598  0.56653  0.56854   \n",
      "1    0.000405     0.57275       0.57166       0.57056  0.57385  0.56323   \n",
      "2    0.000605     0.57825       0.57660       0.57330  0.57239  0.57513   \n",
      "3    0.000805     0.57843       0.57294       0.57458  0.57495  0.57275   \n",
      "4    0.001070     0.83038       0.82672       0.82452  0.81390  0.82434   \n",
      "5    0.001110     0.83459       0.82910       0.82654  0.80493  0.80548   \n",
      "6    0.001150     0.84009       0.82928       0.82745  0.78882  0.80182   \n",
      "7    0.001220     0.83698       0.83295       0.83203  0.77197  0.78992   \n",
      "8    0.001320     0.84119       0.84192       0.83331  0.75751  0.77142   \n",
      "9    0.001470     0.84155       0.83496       0.83844  0.74359  0.74689   \n",
      "10   0.001690     0.84448       0.83844       0.82800  0.72546  0.72565   \n",
      "11   0.002010     0.83899       0.83038       0.83350  0.69745  0.70789   \n",
      "12   0.002470     0.84265       0.83386       0.83661  0.68518  0.69031   \n",
      "13   0.003160     0.84814       0.83185       0.83112  0.67053  0.67804   \n",
      "14   0.004170     0.83862       0.83368       0.83514  0.65881  0.66229   \n",
      "15   0.005650     0.83405       0.82489       0.83020  0.64819  0.64673   \n",
      "16   0.007820     0.83331       0.82947       0.83405  0.63263  0.64032   \n",
      "17   0.011010     0.83496       0.83167       0.83075  0.62604  0.63409   \n",
      "18   0.015680     0.83734       0.83038       0.82581  0.62476  0.62952   \n",
      "19   0.022550     0.83075       0.82379       0.82434  0.62531  0.63025   \n",
      "20   0.032630     0.83057       0.81976       0.82178  0.61395  0.62036   \n",
      "21   0.047420     0.82397       0.81500       0.81537  0.61176  0.62054   \n",
      "22   0.069130     0.81573       0.82178       0.81134  0.62054  0.61761   \n",
      "23   0.101010     0.80640       0.80383       0.79834  0.61835  0.61963   \n",
      "24   0.147780     0.79724       0.79303       0.79230  0.61267  0.61249   \n",
      "25   0.216450     0.77765       0.77325       0.77380  0.61633  0.61652   \n",
      "26   0.317230     0.75769       0.75439       0.75311  0.61157  0.61395   \n",
      "27   0.465160     0.73370       0.72986       0.72894  0.60901  0.60754   \n",
      "28   0.682300     0.70880       0.69763       0.70386  0.60425  0.60699   \n",
      "29   1.001010     0.67548       0.66650       0.67419  0.60681  0.59766   \n",
      "30   1.468800     0.64764       0.64233       0.64142  0.59235  0.59564   \n",
      "31   2.155440     0.61798       0.61542       0.62238  0.59106  0.58850   \n",
      "32   3.163280     0.60022       0.59290       0.59875  0.58337  0.58795   \n",
      "33   4.642590     0.58447       0.58612       0.58612  0.58337  0.58118   \n",
      "34   6.813930     0.57349       0.57037       0.57422  0.58026  0.57971   \n",
      "35  10.001010     0.57422       0.56927       0.56726  0.57660  0.57825   \n",
      "36  14.679000     0.56927       0.56598       0.57019  0.58099  0.57349   \n",
      "37  21.545350     0.57404       0.56799       0.56287  0.57495  0.57037   \n",
      "38  31.623780     0.56525       0.56305       0.56616  0.57458  0.56763   \n",
      "39  46.416890     0.56671       0.56561       0.56506  0.56763  0.56598   \n",
      "\n",
      "    DN405.2  DN407_DCMU  DN407_DCMU.1  DN407_DCMU.2  ...  XW04_DCMU_avg  \\\n",
      "0   0.57458      1.3943        1.3405        1.3500  ...       0.816343   \n",
      "1   0.57880      1.3949        1.3369        1.3477  ...       0.821230   \n",
      "2   0.57953      1.3934        1.3445        1.3500  ...       0.822693   \n",
      "3   0.58337      1.3932        1.3453        1.3493  ...       0.826170   \n",
      "4   0.83386      1.4487        1.3890        1.4019  ...       1.068033   \n",
      "5   0.82654      1.4319        1.3792        1.3909  ...       1.069300   \n",
      "6   0.81299      1.4319        1.3837        1.3863  ...       1.073500   \n",
      "7   0.79907      1.4291        1.3817        1.3868  ...       1.077333   \n",
      "8   0.78186      1.4279        1.3762        1.3828  ...       1.075433   \n",
      "9   0.76208      1.4269        1.3867        1.3810  ...       1.073600   \n",
      "10  0.74066      1.4319        1.3843        1.3812  ...       1.077400   \n",
      "11  0.71558      1.4269        1.3793        1.3867  ...       1.076267   \n",
      "12  0.69928      1.4313        1.3733        1.3856  ...       1.074867   \n",
      "13  0.68152      1.4275        1.3792        1.3817  ...       1.076600   \n",
      "14  0.67035      1.4313        1.3740        1.3846  ...       1.075800   \n",
      "15  0.66138      1.4335        1.3781        1.3867  ...       1.071300   \n",
      "16  0.65131      1.4301        1.3799        1.3870  ...       1.069700   \n",
      "17  0.64197      1.4269        1.3810        1.3892  ...       1.067300   \n",
      "18  0.63538      1.4312        1.3775        1.3835  ...       1.065433   \n",
      "19  0.63519      1.4293        1.3771        1.3837  ...       1.061400   \n",
      "20  0.63757      1.4332        1.3788        1.3793  ...       1.055900   \n",
      "21  0.63226      1.4229        1.3737        1.3832  ...       1.051067   \n",
      "22  0.63098      1.4310        1.3784        1.3804  ...       1.038667   \n",
      "23  0.62585      1.4280        1.3737        1.3815  ...       1.026833   \n",
      "24  0.62567      1.4326        1.3724        1.3830  ...       1.010733   \n",
      "25  0.62128      1.4220        1.3689        1.3790  ...       0.995660   \n",
      "26  0.61926      1.4161        1.3716        1.3784  ...       0.968383   \n",
      "27  0.61981      1.4180        1.3654        1.3711  ...       0.939577   \n",
      "28  0.61688      1.4119        1.3621        1.3722  ...       0.915650   \n",
      "29  0.61432      1.4134        1.3542        1.3685  ...       0.885683   \n",
      "30  0.60406      1.3995        1.3548        1.3649  ...       0.861697   \n",
      "31  0.59399      1.4022        1.3515        1.3537  ...       0.842347   \n",
      "32  0.59784      1.4048        1.3477        1.3579  ...       0.827450   \n",
      "33  0.58795      1.3987        1.3478        1.3488  ...       0.821900   \n",
      "34  0.59216      1.3965        1.3407        1.3471  ...       0.819090   \n",
      "35  0.58740      1.3960        1.3473        1.3499  ...       0.817933   \n",
      "36  0.58154      1.3905        1.3414        1.3453  ...       0.816953   \n",
      "37  0.58612      1.3947        1.3458        1.3455  ...       0.818480   \n",
      "38  0.58008      1.3927        1.3405        1.3464  ...       0.817140   \n",
      "39  0.57605      1.3954        1.3387        1.3504  ...       0.819520   \n",
      "\n",
      "    XW04_avg  XW05_DCMU_avg  XW05_avg  XW06_DCMU_avg  XW06_avg  XW11_DCMU_avg  \\\n",
      "0   0.806153       0.656433  0.658937       0.348513  0.335937       0.852537   \n",
      "1   0.810667       0.657290  0.661317       0.349733  0.335087       0.851257   \n",
      "2   0.814087       0.662720  0.662780       0.351687  0.336000       0.855713   \n",
      "3   0.812500       0.663817  0.660523       0.357727  0.334837       0.859313   \n",
      "4   1.035133       0.924560  0.905947       0.535887  0.528930       0.924133   \n",
      "5   1.026600       0.918397  0.892887       0.536500  0.527467       0.918457   \n",
      "6   1.014900       0.925907  0.880800       0.539490  0.525087       0.916503   \n",
      "7   1.002763       0.924500  0.856627       0.544007  0.524537       0.919193   \n",
      "8   0.982117       0.923153  0.838377       0.546630  0.515440       0.917723   \n",
      "9   0.962833       0.926270  0.813723       0.546327  0.504213       0.916137   \n",
      "10  0.944033       0.926147  0.792237       0.546573  0.485413       0.917300   \n",
      "11  0.924560       0.929383  0.773073       0.542847  0.474183       0.915893   \n",
      "12  0.909973       0.924133  0.758483       0.544980  0.461180       0.915527   \n",
      "13  0.898500       0.925293  0.747253       0.544677  0.447447       0.915160   \n",
      "14  0.886170       0.919497  0.737547       0.544493  0.430970       0.919007   \n",
      "15  0.875793       0.919983  0.725403       0.544677  0.421933       0.915710   \n",
      "16  0.867860       0.913083  0.717470       0.540283  0.407833       0.914733   \n",
      "17  0.862850       0.915710  0.717407       0.540160  0.402590       0.914490   \n",
      "18  0.861207       0.907533  0.713863       0.541623  0.397767       0.917297   \n",
      "19  0.854677       0.900207  0.708923       0.542113  0.393860       0.912477   \n",
      "20  0.853700       0.895020  0.705507       0.538817  0.391420       0.914063   \n",
      "21  0.855040       0.880677  0.703857       0.535033  0.390137       0.913330   \n",
      "22  0.849363       0.861817  0.702333       0.533693  0.391113       0.912717   \n",
      "23  0.850283       0.846680  0.701173       0.531797  0.390073       0.910520   \n",
      "24  0.850403       0.821470  0.699157       0.530030  0.389463       0.910643   \n",
      "25  0.848693       0.792847  0.696777       0.523927  0.390137       0.907287   \n",
      "26  0.843567       0.764893  0.689573       0.513673  0.388673       0.900327   \n",
      "27  0.838317       0.734620  0.685607       0.504090  0.382080       0.897523   \n",
      "28  0.839420       0.707887  0.684510       0.492003  0.380737       0.895140   \n",
      "29  0.830753       0.685180  0.677367       0.471740  0.375920       0.887023   \n",
      "30  0.826233       0.670470  0.674683       0.453920  0.371947       0.880190   \n",
      "31  0.825990       0.664243  0.672790       0.429870  0.365723       0.872867   \n",
      "32  0.822507       0.658997  0.670530       0.410093  0.360900       0.868837   \n",
      "33  0.822327       0.658323  0.666810       0.388303  0.353453       0.862733   \n",
      "34  0.816530       0.655090  0.665403       0.372803  0.346193       0.857787   \n",
      "35  0.816283       0.654663  0.665223       0.359560  0.344300       0.855650   \n",
      "36  0.814757       0.654423  0.660890       0.356810  0.339783       0.856323   \n",
      "37  0.816713       0.658020  0.662600       0.351380  0.334473       0.853637   \n",
      "38  0.809263       0.655943  0.660340       0.353273  0.335817       0.856260   \n",
      "39  0.809997       0.657957  0.657043       0.348937  0.335633       0.853697   \n",
      "\n",
      "    XW11_avg  XW12_DCMU_avg  XW12_avg  \n",
      "0   0.832703       0.971863  0.977907  \n",
      "1   0.834657       0.972043  0.979003  \n",
      "2   0.837280       0.973513  0.979370  \n",
      "3   0.839600       0.976320  0.981383  \n",
      "4   0.911620       1.010130  1.020933  \n",
      "5   0.900633       1.003683  1.016167  \n",
      "6   0.896727       1.002443  1.010453  \n",
      "7   0.894167       1.000870  1.006100  \n",
      "8   0.893310       0.999570  1.004567  \n",
      "9   0.889530       0.999323  1.004883  \n",
      "10  0.884767       1.000067  1.000483  \n",
      "11  0.879393       1.001297  0.998793  \n",
      "12  0.876037       1.001517  0.996153  \n",
      "13  0.871830       0.998233  0.992630  \n",
      "14  0.869447       1.001040  0.991207  \n",
      "15  0.867190       0.998903  0.990230  \n",
      "16  0.865233       1.000060  0.989637  \n",
      "17  0.861267       0.994313  0.986520  \n",
      "18  0.861387       1.000373  0.987310  \n",
      "19  0.859680       0.995190  0.988160  \n",
      "20  0.858097       0.997857  0.986630  \n",
      "21  0.857483       0.994557  0.985587  \n",
      "22  0.853880       0.995040  0.984120  \n",
      "23  0.855470       0.994373  0.984743  \n",
      "24  0.857117       0.992243  0.983887  \n",
      "25  0.852540       0.989810  0.985107  \n",
      "26  0.851743       0.992750  0.984870  \n",
      "27  0.852597       0.985110  0.983943  \n",
      "28  0.849547       0.982663  0.984193  \n",
      "29  0.847043       0.981810  0.983223  \n",
      "30  0.849307       0.980103  0.983400  \n",
      "31  0.848023       0.975460  0.981933  \n",
      "32  0.842710       0.972047  0.984190  \n",
      "33  0.842160       0.971987  0.983453  \n",
      "34  0.839050       0.972470  0.980103  \n",
      "35  0.837160       0.973450  0.983640  \n",
      "36  0.834227       0.973203  0.981740  \n",
      "37  0.837340       0.972167  0.979797  \n",
      "38  0.834653       0.972410  0.980893  \n",
      "39  0.837403       0.972290  0.979127  \n",
      "\n",
      "[40 rows x 65 columns]\n"
     ]
    }
   ],
   "source": [
    "print(xiao_data)"
   ]
  },
  {
   "cell_type": "code",
   "execution_count": 10,
   "id": "6ff68c40",
   "metadata": {
    "_cell_guid": "cfe14d69-8ad2-4a40-a126-320dba5d6e59",
    "_uuid": "27b41550-536d-466c-b8d8-faf7f5fe0a4b",
    "collapsed": false,
    "execution": {
     "iopub.execute_input": "2023-05-07T15:59:49.040218Z",
     "iopub.status.busy": "2023-05-07T15:59:49.039198Z",
     "iopub.status.idle": "2023-05-07T15:59:49.045679Z",
     "shell.execute_reply": "2023-05-07T15:59:49.044572Z"
    },
    "jupyter": {
     "outputs_hidden": false
    },
    "papermill": {
     "duration": 0.018771,
     "end_time": "2023-05-07T15:59:49.047912",
     "exception": false,
     "start_time": "2023-05-07T15:59:49.029141",
     "status": "completed"
    },
    "tags": []
   },
   "outputs": [],
   "source": [
    "xiao_data.iloc[:, 0] = xiao_data.iloc[:, 0].astype(float)"
   ]
  },
  {
   "cell_type": "code",
   "execution_count": 11,
   "id": "ace91015",
   "metadata": {
    "_cell_guid": "94e106f7-6ee5-4e6a-bc66-11f58003a59c",
    "_uuid": "b50f148f-ab07-43e0-b6be-2b0ba3eb969d",
    "collapsed": false,
    "execution": {
     "iopub.execute_input": "2023-05-07T15:59:49.067515Z",
     "iopub.status.busy": "2023-05-07T15:59:49.067119Z",
     "iopub.status.idle": "2023-05-07T15:59:49.100464Z",
     "shell.execute_reply": "2023-05-07T15:59:49.099245Z"
    },
    "jupyter": {
     "outputs_hidden": false
    },
    "papermill": {
     "duration": 0.045382,
     "end_time": "2023-05-07T15:59:49.102843",
     "exception": false,
     "start_time": "2023-05-07T15:59:49.057461",
     "status": "completed"
    },
    "tags": []
   },
   "outputs": [
    {
     "data": {
      "text/html": [
       "<div>\n",
       "<style scoped>\n",
       "    .dataframe tbody tr th:only-of-type {\n",
       "        vertical-align: middle;\n",
       "    }\n",
       "\n",
       "    .dataframe tbody tr th {\n",
       "        vertical-align: top;\n",
       "    }\n",
       "\n",
       "    .dataframe thead th {\n",
       "        text-align: right;\n",
       "    }\n",
       "</style>\n",
       "<table border=\"1\" class=\"dataframe\">\n",
       "  <thead>\n",
       "    <tr style=\"text-align: right;\">\n",
       "      <th></th>\n",
       "      <th>Time (s)</th>\n",
       "      <th>DN405_DCMU</th>\n",
       "      <th>DN405_DCMU.1</th>\n",
       "      <th>DN405_DCMU.2</th>\n",
       "      <th>DN405</th>\n",
       "      <th>DN405.1</th>\n",
       "      <th>DN405.2</th>\n",
       "      <th>DN407_DCMU</th>\n",
       "      <th>DN407_DCMU.1</th>\n",
       "      <th>DN407_DCMU.2</th>\n",
       "      <th>...</th>\n",
       "      <th>XW04_DCMU_avg</th>\n",
       "      <th>XW04_avg</th>\n",
       "      <th>XW05_DCMU_avg</th>\n",
       "      <th>XW05_avg</th>\n",
       "      <th>XW06_DCMU_avg</th>\n",
       "      <th>XW06_avg</th>\n",
       "      <th>XW11_DCMU_avg</th>\n",
       "      <th>XW11_avg</th>\n",
       "      <th>XW12_DCMU_avg</th>\n",
       "      <th>XW12_avg</th>\n",
       "    </tr>\n",
       "  </thead>\n",
       "  <tbody>\n",
       "    <tr>\n",
       "      <th>0</th>\n",
       "      <td>0.000205</td>\n",
       "      <td>0.56451</td>\n",
       "      <td>0.57001</td>\n",
       "      <td>0.56598</td>\n",
       "      <td>0.56653</td>\n",
       "      <td>0.56854</td>\n",
       "      <td>0.57458</td>\n",
       "      <td>1.3943</td>\n",
       "      <td>1.3405</td>\n",
       "      <td>1.3500</td>\n",
       "      <td>...</td>\n",
       "      <td>0.816343</td>\n",
       "      <td>0.806153</td>\n",
       "      <td>0.656433</td>\n",
       "      <td>0.658937</td>\n",
       "      <td>0.348513</td>\n",
       "      <td>0.335937</td>\n",
       "      <td>0.852537</td>\n",
       "      <td>0.832703</td>\n",
       "      <td>0.971863</td>\n",
       "      <td>0.977907</td>\n",
       "    </tr>\n",
       "    <tr>\n",
       "      <th>1</th>\n",
       "      <td>0.000405</td>\n",
       "      <td>0.57275</td>\n",
       "      <td>0.57166</td>\n",
       "      <td>0.57056</td>\n",
       "      <td>0.57385</td>\n",
       "      <td>0.56323</td>\n",
       "      <td>0.57880</td>\n",
       "      <td>1.3949</td>\n",
       "      <td>1.3369</td>\n",
       "      <td>1.3477</td>\n",
       "      <td>...</td>\n",
       "      <td>0.821230</td>\n",
       "      <td>0.810667</td>\n",
       "      <td>0.657290</td>\n",
       "      <td>0.661317</td>\n",
       "      <td>0.349733</td>\n",
       "      <td>0.335087</td>\n",
       "      <td>0.851257</td>\n",
       "      <td>0.834657</td>\n",
       "      <td>0.972043</td>\n",
       "      <td>0.979003</td>\n",
       "    </tr>\n",
       "    <tr>\n",
       "      <th>2</th>\n",
       "      <td>0.000605</td>\n",
       "      <td>0.57825</td>\n",
       "      <td>0.57660</td>\n",
       "      <td>0.57330</td>\n",
       "      <td>0.57239</td>\n",
       "      <td>0.57513</td>\n",
       "      <td>0.57953</td>\n",
       "      <td>1.3934</td>\n",
       "      <td>1.3445</td>\n",
       "      <td>1.3500</td>\n",
       "      <td>...</td>\n",
       "      <td>0.822693</td>\n",
       "      <td>0.814087</td>\n",
       "      <td>0.662720</td>\n",
       "      <td>0.662780</td>\n",
       "      <td>0.351687</td>\n",
       "      <td>0.336000</td>\n",
       "      <td>0.855713</td>\n",
       "      <td>0.837280</td>\n",
       "      <td>0.973513</td>\n",
       "      <td>0.979370</td>\n",
       "    </tr>\n",
       "    <tr>\n",
       "      <th>3</th>\n",
       "      <td>0.000805</td>\n",
       "      <td>0.57843</td>\n",
       "      <td>0.57294</td>\n",
       "      <td>0.57458</td>\n",
       "      <td>0.57495</td>\n",
       "      <td>0.57275</td>\n",
       "      <td>0.58337</td>\n",
       "      <td>1.3932</td>\n",
       "      <td>1.3453</td>\n",
       "      <td>1.3493</td>\n",
       "      <td>...</td>\n",
       "      <td>0.826170</td>\n",
       "      <td>0.812500</td>\n",
       "      <td>0.663817</td>\n",
       "      <td>0.660523</td>\n",
       "      <td>0.357727</td>\n",
       "      <td>0.334837</td>\n",
       "      <td>0.859313</td>\n",
       "      <td>0.839600</td>\n",
       "      <td>0.976320</td>\n",
       "      <td>0.981383</td>\n",
       "    </tr>\n",
       "    <tr>\n",
       "      <th>4</th>\n",
       "      <td>0.001070</td>\n",
       "      <td>0.83038</td>\n",
       "      <td>0.82672</td>\n",
       "      <td>0.82452</td>\n",
       "      <td>0.81390</td>\n",
       "      <td>0.82434</td>\n",
       "      <td>0.83386</td>\n",
       "      <td>1.4487</td>\n",
       "      <td>1.3890</td>\n",
       "      <td>1.4019</td>\n",
       "      <td>...</td>\n",
       "      <td>1.068033</td>\n",
       "      <td>1.035133</td>\n",
       "      <td>0.924560</td>\n",
       "      <td>0.905947</td>\n",
       "      <td>0.535887</td>\n",
       "      <td>0.528930</td>\n",
       "      <td>0.924133</td>\n",
       "      <td>0.911620</td>\n",
       "      <td>1.010130</td>\n",
       "      <td>1.020933</td>\n",
       "    </tr>\n",
       "  </tbody>\n",
       "</table>\n",
       "<p>5 rows × 65 columns</p>\n",
       "</div>"
      ],
      "text/plain": [
       "   Time (s)  DN405_DCMU  DN405_DCMU.1  DN405_DCMU.2    DN405  DN405.1  \\\n",
       "0  0.000205     0.56451       0.57001       0.56598  0.56653  0.56854   \n",
       "1  0.000405     0.57275       0.57166       0.57056  0.57385  0.56323   \n",
       "2  0.000605     0.57825       0.57660       0.57330  0.57239  0.57513   \n",
       "3  0.000805     0.57843       0.57294       0.57458  0.57495  0.57275   \n",
       "4  0.001070     0.83038       0.82672       0.82452  0.81390  0.82434   \n",
       "\n",
       "   DN405.2  DN407_DCMU  DN407_DCMU.1  DN407_DCMU.2  ...  XW04_DCMU_avg  \\\n",
       "0  0.57458      1.3943        1.3405        1.3500  ...       0.816343   \n",
       "1  0.57880      1.3949        1.3369        1.3477  ...       0.821230   \n",
       "2  0.57953      1.3934        1.3445        1.3500  ...       0.822693   \n",
       "3  0.58337      1.3932        1.3453        1.3493  ...       0.826170   \n",
       "4  0.83386      1.4487        1.3890        1.4019  ...       1.068033   \n",
       "\n",
       "   XW04_avg  XW05_DCMU_avg  XW05_avg  XW06_DCMU_avg  XW06_avg  XW11_DCMU_avg  \\\n",
       "0  0.806153       0.656433  0.658937       0.348513  0.335937       0.852537   \n",
       "1  0.810667       0.657290  0.661317       0.349733  0.335087       0.851257   \n",
       "2  0.814087       0.662720  0.662780       0.351687  0.336000       0.855713   \n",
       "3  0.812500       0.663817  0.660523       0.357727  0.334837       0.859313   \n",
       "4  1.035133       0.924560  0.905947       0.535887  0.528930       0.924133   \n",
       "\n",
       "   XW11_avg  XW12_DCMU_avg  XW12_avg  \n",
       "0  0.832703       0.971863  0.977907  \n",
       "1  0.834657       0.972043  0.979003  \n",
       "2  0.837280       0.973513  0.979370  \n",
       "3  0.839600       0.976320  0.981383  \n",
       "4  0.911620       1.010130  1.020933  \n",
       "\n",
       "[5 rows x 65 columns]"
      ]
     },
     "execution_count": 11,
     "metadata": {},
     "output_type": "execute_result"
    }
   ],
   "source": [
    "xiao_data.head()"
   ]
  },
  {
   "cell_type": "code",
   "execution_count": 12,
   "id": "47e8f342",
   "metadata": {
    "_cell_guid": "cf43f89e-1405-475b-b7c5-f40c92c55e95",
    "_uuid": "d8d7a45c-9102-47db-9d85-6c2b74e118fa",
    "collapsed": false,
    "execution": {
     "iopub.execute_input": "2023-05-07T15:59:49.123524Z",
     "iopub.status.busy": "2023-05-07T15:59:49.122506Z",
     "iopub.status.idle": "2023-05-07T15:59:49.408618Z",
     "shell.execute_reply": "2023-05-07T15:59:49.407665Z"
    },
    "jupyter": {
     "outputs_hidden": false
    },
    "papermill": {
     "duration": 0.29891,
     "end_time": "2023-05-07T15:59:49.411095",
     "exception": false,
     "start_time": "2023-05-07T15:59:49.112185",
     "status": "completed"
    },
    "tags": []
   },
   "outputs": [
    {
     "data": {
      "text/plain": [
       "<AxesSubplot:xlabel='Time (s)', ylabel='DN405_DCMU'>"
      ]
     },
     "execution_count": 12,
     "metadata": {},
     "output_type": "execute_result"
    },
    {
     "data": {
      "image/png": "[encoded data removed]",
      "text/plain": [
       "<Figure size 640x480 with 1 Axes>"
      ]
     },
     "metadata": {},
     "output_type": "display_data"
    }
   ],
   "source": [
    "sns.scatterplot(x=xiao_data[\"Time (s)\"], y=xiao_data['DN405_DCMU'])\n",
    "sns.scatterplot(x=xiao_data[\"Time (s)\"], y=xiao_data['XW04_DCMU.1'])\n",
    "sns.scatterplot(x=xiao_data[\"Time (s)\"], y=xiao_data['XW04_DCMU.2'])\n",
    "#sns.regplot(x='Time', y='xw11adcmu', data=xiao_data)"
   ]
  },
  {
   "cell_type": "code",
   "execution_count": 13,
   "id": "336094f0",
   "metadata": {
    "_cell_guid": "cc249674-fccd-4189-8694-48722b8ceefa",
    "_uuid": "efa33415-70ce-4653-9360-d4a523c726ed",
    "collapsed": false,
    "execution": {
     "iopub.execute_input": "2023-05-07T15:59:49.433233Z",
     "iopub.status.busy": "2023-05-07T15:59:49.432119Z",
     "iopub.status.idle": "2023-05-07T15:59:49.733679Z",
     "shell.execute_reply": "2023-05-07T15:59:49.732831Z"
    },
    "jupyter": {
     "outputs_hidden": false
    },
    "papermill": {
     "duration": 0.314904,
     "end_time": "2023-05-07T15:59:49.735883",
     "exception": false,
     "start_time": "2023-05-07T15:59:49.420979",
     "status": "completed"
    },
    "tags": []
   },
   "outputs": [
    {
     "data": {
      "text/plain": [
       "<AxesSubplot:xlabel='Time (s)', ylabel='XW04'>"
      ]
     },
     "execution_count": 13,
     "metadata": {},
     "output_type": "execute_result"
    },
    {
     "data": {
      "image/png": "[encoded data removed]",
      "text/plain": [
       "<Figure size 640x480 with 1 Axes>"
      ]
     },
     "metadata": {},
     "output_type": "display_data"
    }
   ],
   "source": [
    "sns.scatterplot(x=xiao_data[\"Time (s)\"], y=xiao_data['XW04'])\n",
    "sns.scatterplot(x=xiao_data[\"Time (s)\"], y=xiao_data['XW04.1'])\n",
    "sns.scatterplot(x=xiao_data[\"Time (s)\"], y=xiao_data['XW04.2'])\n",
    "sns.scatterplot(x=xiao_data[\"Time (s)\"], y=xiao_data['XW04_avg'])\n",
    "#sns.regplot(x='Time', y='xw11adcmu', data=xiao_data)"
   ]
  },
  {
   "cell_type": "code",
   "execution_count": 14,
   "id": "0eb6897f",
   "metadata": {
    "_cell_guid": "996f0911-6d05-4021-960c-80f88d10b44e",
    "_uuid": "9efb7af4-6771-4575-ba6d-bd78aa895b85",
    "collapsed": false,
    "execution": {
     "iopub.execute_input": "2023-05-07T15:59:49.758217Z",
     "iopub.status.busy": "2023-05-07T15:59:49.757214Z",
     "iopub.status.idle": "2023-05-07T15:59:49.858175Z",
     "shell.execute_reply": "2023-05-07T15:59:49.856922Z"
    },
    "jupyter": {
     "outputs_hidden": false
    },
    "papermill": {
     "duration": 0.114638,
     "end_time": "2023-05-07T15:59:49.860586",
     "exception": false,
     "start_time": "2023-05-07T15:59:49.745948",
     "status": "completed"
    },
    "tags": []
   },
   "outputs": [
    {
     "name": "stdout",
     "output_type": "stream",
     "text": [
      "Time (s): avg=3.63, max=46.41689, min=0.000205, DN405_DCMU: avg=0.73, max=0.84814, min=0.56451, DN405_DCMU.1: avg=0.72, max=0.84192, min=0.56305, DN405_DCMU.2: avg=0.72, max=0.83844, min=0.56287, DN405: avg=0.63, max=0.8139, min=0.56653, DN405.1: avg=0.63, max=0.82434, min=0.56323, DN405.2: avg=0.65, max=0.83386, min=0.57458, DN407_DCMU: avg=1.41, max=1.4487, min=1.3905, DN407_DCMU.1: avg=1.36, max=1.389, min=1.3369, DN407_DCMU.2: avg=1.37, max=1.4019, min=1.3453, DN407: avg=1.35, max=1.3943, min=1.3412, DN407.1: avg=1.37, max=1.4105, min=1.3546, DN407.2: avg=1.38, max=1.4341, min=1.3748, XW02_DCMU: avg=0.55, max=0.68024, min=0.40302, XW02_DCMU.1: avg=0.54, max=0.67145, min=0.40155, XW02_DCMU.2: avg=0.55, max=0.68536, min=0.40778, XW02: avg=0.46, max=0.67657, min=0.38892, XW02.1: avg=0.45, max=0.66156, min=0.37958, XW02.2: avg=0.44, max=0.64691, min=0.37811, XW04_DCMU: avg=0.96, max=1.0829, min=0.81958, XW04_DCMU.1: avg=0.96, max=1.09, min=0.81555, XW04_DCMU.2: avg=0.95, max=1.0688, min=0.80658, XW04: avg=0.86, max=1.0314, min=0.80402, XW04.1: avg=0.87, max=1.0362, min=0.80768, XW04.2: avg=0.87, max=1.0378, min=0.80676, XW05_DCMU: avg=0.78, max=0.91919, min=0.64325, XW05_DCMU.1: avg=0.80, max=0.93658, min=0.65479, XW05_DCMU.2: avg=0.80, max=0.93732, min=0.659, XW05: avg=0.71, max=0.89484, min=0.64801, XW05.1: avg=0.72, max=0.91553, min=0.66101, XW05.2: avg=0.72, max=0.90747, min=0.6601, XW06_DCMU: avg=0.47, max=0.5495, min=0.34241, XW06_DCMU.1: avg=0.47, max=0.54254, min=0.34406, XW06_DCMU.2: avg=0.48, max=0.55444, min=0.35577, XW06: avg=0.42, max=0.54401, min=0.34369, XW06.1: avg=0.39, max=0.52496, min=0.32611, XW06.2: avg=0.39, max=0.52222, min=0.32959, XW11_DCMU: avg=0.88, max=0.91809, min=0.84375, XW11_DCMU.1: avg=0.88, max=0.91406, min=0.841, XW11_DCMU.2: avg=0.91, max=0.94135, min=0.86554, XW11: avg=0.87, max=0.92596, min=0.84869, XW11.1: avg=0.85, max=0.90564, min=0.81921, XW11.2: avg=0.85, max=0.90326, min=0.82544, XW12_DCMU: avg=0.98, max=1.0117, min=0.97009, XW12_DCMU.1: avg=0.97, max=0.99609, min=0.95911, XW12_DCMU.2: avg=1.00, max=1.0226, min=0.98145, XW12: avg=0.98, max=1.0193, min=0.97284, XW12.1: avg=0.97, max=1.0071, min=0.96167, XW12.2: avg=1.00, max=1.0364, min=0.99115, DN405_DCMU_avg: avg=0.72, max=0.8388066666666667, min=0.56482, DN405_avg: avg=0.64, max=0.8240333333333333, min=0.5698833333333334, DN407_DCMU_avg: avg=1.38, max=1.4131999999999998, min=1.3590666666666669, DN407_avg: avg=1.37, max=1.4129666666666667, min=1.3579999999999999, XW02_DCMU_avg: avg=0.54, max=0.67706, min=0.40521333333333337, XW02_avg: avg=0.45, max=0.66168, min=0.38367, XW04_DCMU_avg: avg=0.96, max=1.0774, min=0.8163433333333332, XW04_avg: avg=0.86, max=1.0351333333333332, min=0.8061533333333334, XW05_DCMU_avg: avg=0.79, max=0.9293833333333333, min=0.6544233333333334, XW05_avg: avg=0.72, max=0.9059466666666666, min=0.6570433333333333, XW06_DCMU_avg: avg=0.47, max=0.5466300000000001, min=0.3485133333333333, XW06_avg: avg=0.40, max=0.52893, min=0.33447333333333334, XW11_DCMU_avg: avg=0.89, max=0.9241333333333333, min=0.8512566666666667, XW11_avg: avg=0.85, max=0.91162, min=0.8327033333333334, XW12_DCMU_avg: avg=0.98, max=1.01013, min=0.9718633333333333, XW12_avg: avg=0.98, max=1.0209333333333335, min=0.9779066666666667\n"
     ]
    }
   ],
   "source": [
    "averages = []\n",
    "max_values = {}\n",
    "min_values = {}\n",
    "\n",
    "for column in xiao_data.columns:\n",
    "    # Extract the first 4 values from the column as a string\n",
    "    first_four = xiao_data[column].astype(str).str[:4]\n",
    "    all_but_four = xiao_data[column].astype(str).str[4:]\n",
    "    min_but_4 = pd.to_numeric(all_but_four, errors='coerce').min()\n",
    "\n",
    "    # Calculate the max value and min value in the column\n",
    "    max_value = xiao_data[column].max()\n",
    "    min_value = xiao_data[column].min()\n",
    "\n",
    "    # Save the max and min values in the dictionaries\n",
    "    max_values[column] = max_value\n",
    "    min_values[column] = min_value\n",
    "\n",
    "    # Convert the first four values to numeric and calculate the mean\n",
    "    mean_of_four = pd.to_numeric(first_four, errors='coerce').mean()\n",
    "\n",
    "    # Append the mean to the list of averages\n",
    "    averages.append(mean_of_four)\n",
    "\n",
    "# Create a string with the averages, max values, and min values for each column\n",
    "output_list = [f\"{col}: avg={avg:.2f}, max={max_values[col]}, min={min_values[col]}\" for col, avg in zip(xiao_data.columns, averages)]\n",
    "output_string = \", \".join(output_list)\n",
    "\n",
    "# Print the output string\n",
    "print(output_string)\n",
    "\n",
    "# Create dictionaries with the averages and the min values of the first 4 values for each column\n",
    "averages_dict = {col: avg for col, avg in zip(xiao_data.columns, averages)}\n",
    "min_values_dict = {col: min_val for col, min_val in zip(xiao_data.columns, min_values)}"
   ]
  },
  {
   "cell_type": "code",
   "execution_count": 15,
   "id": "7a1094c1",
   "metadata": {
    "_cell_guid": "7038f0d0-de81-4bab-ae04-c69199a40dc2",
    "_uuid": "c50ce745-5e42-44b9-bffe-c346baddab01",
    "collapsed": false,
    "execution": {
     "iopub.execute_input": "2023-05-07T15:59:49.882730Z",
     "iopub.status.busy": "2023-05-07T15:59:49.882299Z",
     "iopub.status.idle": "2023-05-07T15:59:49.926186Z",
     "shell.execute_reply": "2023-05-07T15:59:49.923691Z"
    },
    "jupyter": {
     "outputs_hidden": false
    },
    "papermill": {
     "duration": 0.05796,
     "end_time": "2023-05-07T15:59:49.928692",
     "exception": false,
     "start_time": "2023-05-07T15:59:49.870732",
     "status": "completed"
    },
    "tags": []
   },
   "outputs": [
    {
     "name": "stdout",
     "output_type": "stream",
     "text": [
      "     Time (s)  DN405_DCMU  DN405_DCMU.1  DN405_DCMU.2     DN405   DN405.1  \\\n",
      "0    0.000205    0.000000      0.024958      0.011286  0.000000  0.020336   \n",
      "1    0.000405    0.029052      0.030875      0.027906  0.029591  0.000000   \n",
      "2    0.000605    0.048443      0.048589      0.037849  0.023689  0.045575   \n",
      "3    0.000805    0.049078      0.035465      0.042494  0.034038  0.036460   \n",
      "4    0.001070    0.937383      0.945494      0.949487  1.000000  1.000000   \n",
      "5    0.001110    0.952226      0.954029      0.956817  0.963739  0.927770   \n",
      "6    0.001150    0.971618      0.954674      0.960119  0.898613  0.913753   \n",
      "7    0.001220    0.960653      0.967834      0.976739  0.830497  0.868178   \n",
      "8    0.001320    0.975496      1.000000      0.981384  0.772042  0.797327   \n",
      "9    0.001470    0.976766      0.975042      1.000000  0.715770  0.703382   \n",
      "10   0.001690    0.987096      0.987521      0.962115  0.642479  0.622037   \n",
      "11   0.002010    0.967740      0.958619      0.982074  0.529248  0.554019   \n",
      "12   0.002470    0.980644      0.971098      0.993359  0.479646  0.486691   \n",
      "13   0.003160    1.000000      0.963890      0.973437  0.420423  0.439700   \n",
      "14   0.004170    0.966435      0.970452      0.988025  0.373044  0.379380   \n",
      "15   0.005650    0.950323      0.938932      0.970098  0.330113  0.319789   \n",
      "16   0.007820    0.947714      0.955356      0.984069  0.267211  0.295240   \n",
      "17   0.011010    0.953531      0.963245      0.972094  0.240571  0.271380   \n",
      "18   0.015680    0.961922      0.958619      0.954168  0.235396  0.253878   \n",
      "19   0.022550    0.938688      0.934988      0.948833  0.237620  0.256673   \n",
      "20   0.032630    0.938053      0.920536      0.939543  0.191697  0.218797   \n",
      "21   0.047420    0.914783      0.903468      0.916283  0.182844  0.219486   \n",
      "22   0.069130    0.885731      0.927780      0.901658  0.218337  0.208265   \n",
      "23   0.101010    0.852836      0.863413      0.854483  0.209484  0.216001   \n",
      "24   0.147780    0.820541      0.824685      0.832565  0.186522  0.188656   \n",
      "25   0.216450    0.751472      0.753756      0.765432  0.201318  0.204090   \n",
      "26   0.317230    0.681099      0.686126      0.690351  0.182075  0.194248   \n",
      "27   0.465160    0.596517      0.598164      0.602642  0.171727  0.169699   \n",
      "28   0.682300    0.508726      0.482590      0.511630  0.152484  0.167592   \n",
      "29   1.001010    0.391249      0.370961      0.403963  0.162833  0.131860   \n",
      "30   1.468800    0.293093      0.284290      0.285046  0.104378  0.124124   \n",
      "31   2.155440    0.188520      0.187794      0.215952  0.099163  0.096779   \n",
      "32   3.163280    0.125903      0.107039      0.130203  0.068076  0.094673   \n",
      "33   4.642590    0.070373      0.082727      0.084371  0.068076  0.068745   \n",
      "34   6.813930    0.031661      0.026249      0.041187  0.055504  0.063115   \n",
      "35  10.001010    0.034235      0.022304      0.015931  0.040708  0.057524   \n",
      "36  14.679000    0.016782      0.010507      0.026563  0.058455  0.039294   \n",
      "37  21.545350    0.033600      0.017714      0.000000  0.034038  0.027345   \n",
      "38  31.623780    0.002609      0.000000      0.011939  0.032542  0.016851   \n",
      "39  46.416890    0.007757      0.009180      0.007947  0.004447  0.010532   \n",
      "\n",
      "     DN405.2  DN407_DCMU  DN407_DCMU.1  DN407_DCMU.2  ...  XW04_DCMU_avg  \\\n",
      "0   0.000000    0.065292      0.069098      0.083039  ...       0.000000   \n",
      "1   0.016276    0.075601      0.000000      0.042403  ...       0.018719   \n",
      "2   0.019091    0.049828      0.145873      0.083039  ...       0.024324   \n",
      "3   0.033902    0.046392      0.161228      0.070671  ...       0.037642   \n",
      "4   1.000000    1.000000      1.000000      1.000000  ...       0.964120   \n",
      "5   0.971768    0.711340      0.811900      0.805654  ...       0.968972   \n",
      "6   0.919508    0.711340      0.898273      0.724382  ...       0.985061   \n",
      "7   0.865821    0.663230      0.859885      0.733216  ...       0.999745   \n",
      "8   0.799445    0.642612      0.754319      0.662544  ...       0.992467   \n",
      "9   0.723156    0.625430      0.955854      0.630742  ...       0.985444   \n",
      "10  0.640543    0.711340      0.909789      0.634276  ...       1.000000   \n",
      "11  0.543814    0.625430      0.813820      0.731449  ...       0.995659   \n",
      "12  0.480947    0.701031      0.698656      0.712014  ...       0.990296   \n",
      "13  0.412450    0.635739      0.811900      0.643110  ...       0.996936   \n",
      "14  0.369369    0.701031      0.712092      0.694346  ...       0.993871   \n",
      "15  0.334773    0.738832      0.790787      0.731449  ...       0.976633   \n",
      "16  0.295935    0.680412      0.825336      0.736749  ...       0.970504   \n",
      "17  0.259912    0.625430      0.846449      0.775618  ...       0.961311   \n",
      "18  0.234496    0.699313      0.779271      0.674912  ...       0.954161   \n",
      "19  0.233763    0.666667      0.771593      0.678445  ...       0.938711   \n",
      "20  0.242942    0.733677      0.804223      0.600707  ...       0.917642   \n",
      "21  0.222462    0.556701      0.706334      0.669611  ...       0.899128   \n",
      "22  0.217525    0.695876      0.796545      0.620141  ...       0.851629   \n",
      "23  0.197740    0.644330      0.706334      0.639576  ...       0.806300   \n",
      "24  0.197046    0.723368      0.681382      0.666078  ...       0.744628   \n",
      "25  0.180114    0.541237      0.614203      0.595406  ...       0.686888   \n",
      "26  0.172323    0.439863      0.666027      0.584806  ...       0.582402   \n",
      "27  0.174445    0.472509      0.547025      0.455830  ...       0.472056   \n",
      "28  0.163144    0.367698      0.483685      0.475265  ...       0.380403   \n",
      "29  0.153271    0.393471      0.332054      0.409894  ...       0.265613   \n",
      "30  0.113699    0.154639      0.343570      0.346290  ...       0.173730   \n",
      "31  0.074861    0.201031      0.280230      0.148410  ...       0.099608   \n",
      "32  0.089710    0.245704      0.207294      0.222615  ...       0.042545   \n",
      "33  0.051566    0.140893      0.209213      0.061837  ...       0.021285   \n",
      "34  0.067803    0.103093      0.072937      0.031802  ...       0.010521   \n",
      "35  0.049445    0.094502      0.199616      0.081272  ...       0.006091   \n",
      "36  0.026844    0.000000      0.086372      0.000000  ...       0.002337   \n",
      "37  0.044508    0.072165      0.170825      0.003534  ...       0.008185   \n",
      "38  0.021213    0.037801      0.069098      0.019435  ...       0.003052   \n",
      "39  0.005670    0.084192      0.034549      0.090106  ...       0.012168   \n",
      "\n",
      "    XW04_avg  XW05_DCMU_avg  XW05_avg  XW06_DCMU_avg  XW06_avg  XW11_DCMU_avg  \\\n",
      "0   0.000000       0.007310  0.007607       0.000000  0.007525       0.017564   \n",
      "1   0.019711       0.010426  0.017169       0.006158  0.003154       0.000000   \n",
      "2   0.034646       0.030174  0.023048       0.016017  0.007851       0.061154   \n",
      "3   0.027717       0.034163  0.013981       0.046505  0.001868       0.110552   \n",
      "4   1.000000       0.982458  1.000000       0.945773  1.000000       1.000000   \n",
      "5   0.962733       0.960043  0.947530       0.948869  0.992475       0.922106   \n",
      "6   0.911637       0.987356  0.898970       0.963961  0.980236       0.895303   \n",
      "7   0.858634       0.982240  0.801851       0.986759  0.977407       0.932214   \n",
      "8   0.768466       0.977342  0.728529       1.000000  0.930627       0.912043   \n",
      "9   0.684252       0.988677  0.629481       0.998469  0.872894       0.890271   \n",
      "10  0.602149       0.988229  0.543156       0.999714  0.776214       0.906234   \n",
      "11  0.517105       1.000000  0.466165       0.980904  0.718463       0.886932   \n",
      "12  0.453402       0.980906  0.407548       0.991672  0.651593       0.881901   \n",
      "13  0.403296       0.985125  0.362430       0.990140  0.580969       0.876870   \n",
      "14  0.349448       0.964043  0.323432       0.989215  0.496237       0.929653   \n",
      "15  0.304131       0.965813  0.274645       0.990140  0.449766       0.884417   \n",
      "16  0.269485       0.940719  0.242772       0.967965  0.377256       0.871015   \n",
      "17  0.247605       0.950272  0.242517       0.967342  0.350292       0.867676   \n",
      "18  0.240429       0.920534  0.228281       0.974729  0.325488       0.906189   \n",
      "19  0.211911       0.893888  0.208434       0.977202  0.305398       0.840049   \n",
      "20  0.207646       0.875024  0.194707       0.960562  0.292850       0.861821   \n",
      "21  0.213498       0.822859  0.188078       0.941465  0.286251       0.851759   \n",
      "22  0.188706       0.754267  0.181958       0.934702  0.291273       0.843343   \n",
      "23  0.192724       0.699217  0.177298       0.925128  0.285925       0.813200   \n",
      "24  0.193248       0.607531  0.169196       0.916211  0.282788       0.814893   \n",
      "25  0.185780       0.503431  0.159634       0.885404  0.286251       0.768833   \n",
      "26  0.163391       0.401768  0.130693       0.833650  0.278725       0.673329   \n",
      "27  0.140464       0.291667  0.114757       0.785278  0.244819       0.634863   \n",
      "28  0.145282       0.194440  0.110351       0.724270  0.237911       0.602159   \n",
      "29  0.107433       0.111859  0.081652       0.621990  0.213141       0.490784   \n",
      "30  0.087693       0.058360  0.070871       0.532043  0.192708       0.397018   \n",
      "31  0.086631       0.035714  0.063264       0.410650  0.160704       0.296528   \n",
      "32  0.071418       0.016633  0.054184       0.310827  0.135900       0.241229   \n",
      "33  0.070632       0.014184  0.039239       0.200841  0.097605       0.157481   \n",
      "34  0.045317       0.002425  0.033587       0.122605  0.060270       0.089603   \n",
      "35  0.044240       0.000873  0.032864       0.055758  0.050534       0.060284   \n",
      "36  0.037572       0.000000  0.015454       0.041878  0.027307       0.069524   \n",
      "37  0.046118       0.013081  0.022325       0.014470  0.000000       0.032658   \n",
      "38  0.013582       0.005528  0.013245       0.024026  0.006908       0.068655   \n",
      "39  0.016785       0.012850  0.000000       0.002137  0.005965       0.033481   \n",
      "\n",
      "    XW11_avg  XW12_DCMU_avg  XW12_avg  \n",
      "0   0.000000       0.000000  0.000000  \n",
      "1   0.024752       0.004704  0.025488  \n",
      "2   0.057994       0.043118  0.034010  \n",
      "3   0.087392       0.116463  0.080803  \n",
      "4   1.000000       1.000000  1.000000  \n",
      "5   0.860781       0.831533  0.889216  \n",
      "6   0.811278       0.799129  0.756430  \n",
      "7   0.778838       0.758014  0.655253  \n",
      "8   0.767983       0.724042  0.619616  \n",
      "9   0.720084       0.717596  0.626976  \n",
      "10  0.659725       0.737021  0.524713  \n",
      "11  0.591637       0.769164  0.485435  \n",
      "12  0.549102       0.774913  0.424078  \n",
      "13  0.495797       0.689111  0.342191  \n",
      "14  0.465597       0.762456  0.309111  \n",
      "15  0.437001       0.706620  0.286412  \n",
      "16  0.412207       0.736847  0.272622  \n",
      "17  0.361943       0.586672  0.200186  \n",
      "18  0.363464       0.745035  0.218547  \n",
      "19  0.341837       0.609582  0.238302  \n",
      "20  0.321774       0.679268  0.202742  \n",
      "21  0.314002       0.593031  0.178494  \n",
      "22  0.268342       0.605662  0.144407  \n",
      "23  0.288490       0.588240  0.158894  \n",
      "24  0.309356       0.532578  0.138984  \n",
      "25  0.251362       0.468990  0.167338  \n",
      "26  0.241267       0.545819  0.161838  \n",
      "27  0.252080       0.346167  0.140301  \n",
      "28  0.213432       0.282230  0.146111  \n",
      "29  0.181711       0.259930  0.123567  \n",
      "30  0.210391       0.215331  0.127673  \n",
      "31  0.194129       0.093990  0.093585  \n",
      "32  0.126800       0.004791  0.146033  \n",
      "33  0.119831       0.003223  0.128912  \n",
      "34  0.080422       0.015854  0.051054  \n",
      "35  0.056473       0.041463  0.133251  \n",
      "36  0.019303       0.035017  0.089092  \n",
      "37  0.058754       0.007927  0.043926  \n",
      "38  0.024710       0.014286  0.069414  \n",
      "39  0.059556       0.011150  0.028355  \n",
      "\n",
      "[40 rows x 65 columns]\n"
     ]
    }
   ],
   "source": [
    "min_values_dict = {column: float(min(xiao_data[column])) for column in xiao_data.columns[1:]}\n",
    "max_values_dict = {column: float(max(xiao_data[column])) for column in xiao_data.columns[1:]}\n",
    "\n",
    "# Subtract the minimum of each column\n",
    "xiao_data_norm = xiao_data.copy()\n",
    "xiao_data_norm[xiao_data.columns[1:]] = xiao_data[xiao_data.columns[1:]].subtract({k: v for k, v in min_values_dict.items()})\n",
    "\n",
    "# Divide each column by its maximum-minimum\n",
    "xiao_data_norm[xiao_data.columns[1:]] = xiao_data_norm[xiao_data.columns[1:]].divide({k: max_values_dict[k]-min_values_dict[k] for k in max_values_dict})\n",
    "\n",
    "# Print the normalized data\n",
    "print(xiao_data_norm)"
   ]
  },
  {
   "cell_type": "code",
   "execution_count": 16,
   "id": "82c93ac3",
   "metadata": {
    "_cell_guid": "3a6af4e0-bda1-45e8-82bc-3dc83dca95dd",
    "_uuid": "e3f80b4b-df65-45fc-8fde-147753f980aa",
    "collapsed": false,
    "execution": {
     "iopub.execute_input": "2023-05-07T15:59:49.952346Z",
     "iopub.status.busy": "2023-05-07T15:59:49.951545Z",
     "iopub.status.idle": "2023-05-07T15:59:49.958617Z",
     "shell.execute_reply": "2023-05-07T15:59:49.957529Z"
    },
    "jupyter": {
     "outputs_hidden": false
    },
    "papermill": {
     "duration": 0.021733,
     "end_time": "2023-05-07T15:59:49.961300",
     "exception": false,
     "start_time": "2023-05-07T15:59:49.939567",
     "status": "completed"
    },
    "tags": []
   },
   "outputs": [
    {
     "name": "stdout",
     "output_type": "stream",
     "text": [
      "0     0.007607\n",
      "1     0.017169\n",
      "2     0.023048\n",
      "3     0.013981\n",
      "4     1.000000\n",
      "5     0.947530\n",
      "6     0.898970\n",
      "7     0.801851\n",
      "8     0.728529\n",
      "9     0.629481\n",
      "10    0.543156\n",
      "11    0.466165\n",
      "12    0.407548\n",
      "13    0.362430\n",
      "14    0.323432\n",
      "15    0.274645\n",
      "16    0.242772\n",
      "17    0.242517\n",
      "18    0.228281\n",
      "19    0.208434\n",
      "20    0.194707\n",
      "21    0.188078\n",
      "22    0.181958\n",
      "23    0.177298\n",
      "24    0.169196\n",
      "25    0.159634\n",
      "26    0.130693\n",
      "27    0.114757\n",
      "28    0.110351\n",
      "29    0.081652\n",
      "30    0.070871\n",
      "31    0.063264\n",
      "32    0.054184\n",
      "33    0.039239\n",
      "34    0.033587\n",
      "35    0.032864\n",
      "36    0.015454\n",
      "37    0.022325\n",
      "38    0.013245\n",
      "39    0.000000\n",
      "Name: XW05_avg, dtype: float64\n"
     ]
    }
   ],
   "source": [
    "print(xiao_data_norm[\"XW05_avg\"])"
   ]
  },
  {
   "cell_type": "code",
   "execution_count": 17,
   "id": "81d2e686",
   "metadata": {
    "_cell_guid": "dad1df86-1989-4d0e-87b8-984c064e5e0a",
    "_uuid": "38f9d834-cad7-470f-a87a-88ffddbe236c",
    "collapsed": false,
    "execution": {
     "iopub.execute_input": "2023-05-07T15:59:49.984688Z",
     "iopub.status.busy": "2023-05-07T15:59:49.984295Z",
     "iopub.status.idle": "2023-05-07T15:59:50.654536Z",
     "shell.execute_reply": "2023-05-07T15:59:50.653206Z"
    },
    "jupyter": {
     "outputs_hidden": false
    },
    "papermill": {
     "duration": 0.685081,
     "end_time": "2023-05-07T15:59:50.657107",
     "exception": false,
     "start_time": "2023-05-07T15:59:49.972026",
     "status": "completed"
    },
    "tags": []
   },
   "outputs": [
    {
     "data": {
      "image/png": "[encoded data removed]",
      "text/plain": [
       "<Figure size 640x480 with 1 Axes>"
      ]
     },
     "metadata": {},
     "output_type": "display_data"
    }
   ],
   "source": [
    "# Create the scatterplot with normalized y-axis values\n",
    "sns.scatterplot(x=xiao_data[\"Time (s)\"].iloc[4:], y=xiao_data_norm[\"XW05_avg\"].iloc[4:])\n",
    "\n",
    "# Set the x-axis scale to logarithmic\n",
    "plt.xscale(\"log\")\n",
    "\n",
    "# Show the plot\n",
    "plt.show()"
   ]
  },
  {
   "cell_type": "code",
   "execution_count": 18,
   "id": "8c2e62da",
   "metadata": {
    "_cell_guid": "86e58766-79ab-49a0-a54f-1611a43e4ab1",
    "_uuid": "0312ec61-8cd8-4f39-a9b6-6d207baaba98",
    "collapsed": false,
    "execution": {
     "iopub.execute_input": "2023-05-07T15:59:50.681217Z",
     "iopub.status.busy": "2023-05-07T15:59:50.680795Z",
     "iopub.status.idle": "2023-05-07T15:59:50.691040Z",
     "shell.execute_reply": "2023-05-07T15:59:50.689709Z"
    },
    "jupyter": {
     "outputs_hidden": false
    },
    "papermill": {
     "duration": 0.024695,
     "end_time": "2023-05-07T15:59:50.693172",
     "exception": false,
     "start_time": "2023-05-07T15:59:50.668477",
     "status": "completed"
    },
    "tags": []
   },
   "outputs": [
    {
     "name": "stdout",
     "output_type": "stream",
     "text": [
      "58\n",
      "0.00107\n",
      "4\n"
     ]
    }
   ],
   "source": [
    "def get_time_and_index_for_mutant(mutant_col):\n",
    "    # Subset the data to only the specified mutant column and time\n",
    "    mutant_df = xiao_data_norm[[mutant_col, \"Time (s)\"]]\n",
    "    \n",
    "    # Find the index where the mutant achieves y=1\n",
    "    index_of_interest = (mutant_df[mutant_col] == 1).idxmax()\n",
    "    \n",
    "    # Get the corresponding time value and index\n",
    "    time_of_interest = xiao_data_norm.loc[index_of_interest, \"Time (s)\"]\n",
    "    \n",
    "    return time_of_interest, index_of_interest\n",
    "def get_mutant_index(df, col_name):\n",
    "    # Get the column index for the specified column name\n",
    "    col_index = df.columns.get_loc(col_name)\n",
    "    \n",
    "    \n",
    "    \n",
    "    return col_index\n",
    "mutant_index = get_mutant_index(xiao_data_norm, \"XW05_avg\")\n",
    "\n",
    "time_for_mutant, index_for_mutant = get_time_and_index_for_mutant(\"XW05_avg\")\n",
    "print(mutant_index)\n",
    "print(time_for_mutant)\n",
    "print(index_for_mutant)"
   ]
  },
  {
   "cell_type": "code",
   "execution_count": 19,
   "id": "38977b50",
   "metadata": {
    "_cell_guid": "7e689a1f-186c-4828-a9d3-3cb727b2e1e9",
    "_uuid": "9a4903da-9ee3-4582-afa3-4c038a9f5c46",
    "collapsed": false,
    "execution": {
     "iopub.execute_input": "2023-05-07T15:59:50.717207Z",
     "iopub.status.busy": "2023-05-07T15:59:50.716563Z",
     "iopub.status.idle": "2023-05-07T15:59:51.238532Z",
     "shell.execute_reply": "2023-05-07T15:59:51.237286Z"
    },
    "jupyter": {
     "outputs_hidden": false
    },
    "papermill": {
     "duration": 0.536739,
     "end_time": "2023-05-07T15:59:51.241118",
     "exception": false,
     "start_time": "2023-05-07T15:59:50.704379",
     "status": "completed"
    },
    "tags": []
   },
   "outputs": [
    {
     "data": {
      "image/png": "[encoded data removed]",
      "text/plain": [
       "<Figure size 640x480 with 1 Axes>"
      ]
     },
     "metadata": {},
     "output_type": "display_data"
    }
   ],
   "source": [
    "# Create the scatterplot\n",
    "sns.scatterplot(x=xiao_data_norm[\"Time (s)\"].iloc[index_for_mutant:], y=xiao_data_norm[\"XW05_avg\"].iloc[4:])\n",
    "\n",
    "# Set the x-axis scale to logarithmic\n",
    "plt.xscale(\"log\")\n",
    "\n",
    "# Show the plot\n",
    "plt.show()"
   ]
  },
  {
   "cell_type": "code",
   "execution_count": 20,
   "id": "bdfe8d08",
   "metadata": {
    "_cell_guid": "0a73e0a3-d816-455c-9aa4-b8e7bc4b327a",
    "_uuid": "a3496829-5ddf-410b-8e8e-56870eddeb63",
    "collapsed": false,
    "execution": {
     "iopub.execute_input": "2023-05-07T15:59:51.266493Z",
     "iopub.status.busy": "2023-05-07T15:59:51.266114Z",
     "iopub.status.idle": "2023-05-07T15:59:53.043688Z",
     "shell.execute_reply": "2023-05-07T15:59:53.042807Z"
    },
    "jupyter": {
     "outputs_hidden": false
    },
    "papermill": {
     "duration": 1.793123,
     "end_time": "2023-05-07T15:59:53.046166",
     "exception": false,
     "start_time": "2023-05-07T15:59:51.253043",
     "status": "completed"
    },
    "tags": []
   },
   "outputs": [
    {
     "name": "stderr",
     "output_type": "stream",
     "text": [
      "/opt/conda/lib/python3.7/site-packages/pandas/core/arraylike.py:364: RuntimeWarning: overflow encountered in exp\n",
      "  result = getattr(ufunc, method)(*inputs, **kwargs)\n"
     ]
    },
    {
     "name": "stdout",
     "output_type": "stream",
     "text": [
      "A1= 0.189, A2= 0.256, A3= 0.552, K1= 0.638, K2= 193.822, K3= 2451.471, R^2= 0.997\n",
      "+------------------------+--------------------------------+\n",
      "|       Half-life        | Exponential Value at Half-life |\n",
      "+------------------------+--------------------------------+\n",
      "| Half-life 3 (1.568208) |            0.069409            |\n",
      "| Half-life 2 (0.005159) |            0.303904            |\n",
      "| Half-life 1 (0.000408) |            3.277105            |\n",
      "+------------------------+--------------------------------+\n"
     ]
    },
    {
     "data": {
      "image/png": "[encoded data removed]",
      "text/plain": [
       "<Figure size 640x480 with 1 Axes>"
      ]
     },
     "metadata": {},
     "output_type": "display_data"
    },
    {
     "data": {
      "image/png": "[encoded data removed]",
      "text/plain": [
       "<Figure size 640x480 with 1 Axes>"
      ]
     },
     "metadata": {},
     "output_type": "display_data"
    }
   ],
   "source": [
    "import numpy as np\n",
    "import pandas as pd\n",
    "from scipy.optimize import curve_fit\n",
    "import matplotlib.pyplot as plt\n",
    "\n",
    "# Define the 3-parameter exponential decay function\n",
    "def exponential_decay(x, A1, A2, A3, K1, K2, K3):\n",
    "    return A1 * np.exp(-K1 * (x - time_for_mutant)) + A2 * np.exp(-K2 * (x - time_for_mutant)) + A3 * np.exp(-K3 * (x - time_for_mutant))\n",
    "\n",
    "# Set the initial guess values for the parameters and the maximum number of function calls\n",
    "p0 = [0.3, 0.3, 0.3, 0.1, 1, 10]\n",
    "maxfev = 100000\n",
    "\n",
    "# Get the data\n",
    "x = xiao_data_norm[\"Time (s)\"].iloc[index_for_mutant:]\n",
    "y = xiao_data_norm[\"XW05_avg\"].iloc[index_for_mutant:]\n",
    "\n",
    "# Fit the exponential decay function to the data\n",
    "popt, pcov = curve_fit(exponential_decay, x, y, p0=p0, maxfev=maxfev)\n",
    "\n",
    "# Calculate R^2\n",
    "residuals = y - exponential_decay(x, *popt)\n",
    "ss_res = np.sum(residuals**2)\n",
    "ss_tot = np.sum((y - np.mean(y))**2)\n",
    "r_squared = 1 - (ss_res / ss_tot)\n",
    "\n",
    "# Print the estimated parameters and R^2\n",
    "print(\"A1= {:.3f}, A2= {:.3f}, A3= {:.3f}, K1= {:.3f}, K2= {:.3f}, K3= {:.3f}, R^2= {:.3f}\".format(*popt, r_squared))\n",
    "\n",
    "from prettytable import PrettyTable\n",
    "\n",
    "half_life1 = np.log2(2)/popt[3]\n",
    "half_life2 = np.log2(2)/popt[4]\n",
    "half_life3 = np.log2(2)/popt[5]\n",
    "val_at_half_life1 = exponential_decay(half_life1, *popt)\n",
    "val_at_half_life2 = exponential_decay(half_life2, *popt)\n",
    "val_at_half_life3 = exponential_decay(half_life3, *popt)\n",
    "\n",
    "table = PrettyTable()\n",
    "table.field_names = [\"Half-life\", \"Exponential Value at Half-life\"]\n",
    "\n",
    "table.add_row([f\"Half-life 3 ({half_life1:.6f})\", f\"{val_at_half_life1:.6f}\" + ('*' if val_at_half_life1 < 0 else '')])\n",
    "table.add_row([f\"Half-life 2 ({half_life2:.6f})\", f\"{val_at_half_life2:.6f}\" + ('*' if val_at_half_life2 < 0 else '')])\n",
    "table.add_row([f\"Half-life 1 ({half_life3:.6f})\", f\"{val_at_half_life3:.6f}\" + ('*' if val_at_half_life3 < 0 else '')])\n",
    "\n",
    "print(table)\n",
    "\n",
    "\n",
    "\n",
    "# Create a new time vector starting from the end of the actual data\n",
    "x_pred = np.linspace(x.iloc[-1], 100, 1000)\n",
    "\n",
    "# Predict the values for the new time vector\n",
    "y_pred = exponential_decay(x_pred, *popt)\n",
    "\n",
    "# Create a DataFrame with the predicted values\n",
    "pred_df = pd.DataFrame({'Time (s)': x_pred, 'XW05_avg': y_pred})\n",
    "\n",
    "# Plot the data and the fitted curve\n",
    "fig, ax = plt.subplots()\n",
    "ax.plot(x, y, 'bo', label='data')\n",
    "ax.plot(x, exponential_decay(x, *popt), 'r-', label='fit')\n",
    "plt.xscale(\"log\")\n",
    "# Set the y-axis limits to focus on the range where the half-life occurs\n",
    "ax.set_ylim(bottom=-0.1, top=3.6)\n",
    "\n",
    "# Add vertical lines for the half-life values\n",
    "ax.axvline(x=half_life3, linestyle='--', color='gray')\n",
    "ax.axvline(x=half_life2, linestyle='--', color='gray')\n",
    "ax.axvline(x=half_life1, linestyle='--', color='gray')\n",
    "# Plot the predicted values with a different color\n",
    "ax.plot(pred_df['Time (s)'], pred_df['XW05_avg'], color='green', linestyle='-')\n",
    "# Define the x range for the plots\n",
    "x_pre = np.linspace(x.iloc[-1], 100, 1000)\n",
    "y_pre = exponential_decay(x_pre, *popt)\n",
    "\n",
    "# Define the individual components of the function\n",
    "def component1(x):\n",
    "    return popt[0] * np.exp(-popt[3] * (x - time_for_mutant))\n",
    "def component2(x):\n",
    "    return popt[1] * np.exp(-popt[4] * (x - time_for_mutant))\n",
    "def component3(x):\n",
    "    return popt[2] * np.exp(-popt[5] * (x - time_for_mutant))\n",
    "\n",
    "# Plot the individual components of the function\n",
    "fig, (ax1) = plt.subplots()\n",
    "ax1.plot(x_pred, y_pred, 'r-', label='fit')\n",
    "ax1.plot(pred_df['Time (s)'], pred_df['XW05_avg'], color='green', linestyle='-')\n",
    "ax1.fill_between(x, component2(x)+component3(x),exponential_decay(x, *popt), where=(x >=0) & (x <= 100), alpha=0.5, color='red', label='A1')\n",
    "ax1.plot(x, component2(x)+component3(x), 'orange', label='A3exp+A2exp')\n",
    "ax1.fill_between(x, component3(x),component2(x)+component3(x), where=(x >=0) & (x <= 100), alpha=0.5, color='orange', label='A2')\n",
    "ax1.plot(x, component3(x), 'yellow', label='A3exp')\n",
    "ax1.plot(x, exponential_decay(x, *popt), 'r-', label='fit')\n",
    "ax1.fill_between(x, 0,component3(x), where=(x >=0) & (x <= 100), alpha=0.5, color='yellow', label='A3')\n",
    "ax1.set_xlabel('Time (s)')\n",
    "ax1.set_ylabel('Exponential Decay')\n",
    "plt.xscale(\"log\")\n",
    "ax1.legend()\n",
    "\n",
    "# Add vertical lines for the half-life values\n",
    "ax1.axvline(x=half_life3, linestyle='--', color='gray')\n",
    "ax1.axvline(x=half_life2, linestyle='--', color='gray')\n",
    "ax1.axvline(x=half_life1, linestyle='--', color='gray')\n",
    "\n",
    "# Add a legend to the plot\n",
    "ax1.legend()\n",
    "\n",
    "\n",
    "plt.show()"
   ]
  },
  {
   "cell_type": "code",
   "execution_count": 21,
   "id": "c6a84f4f",
   "metadata": {
    "_cell_guid": "5e9fc6b7-b968-4db1-96da-9522f9703965",
    "_uuid": "c6e0e5e6-0c4c-4dc8-8fde-8e5263b9b589",
    "collapsed": false,
    "execution": {
     "iopub.execute_input": "2023-05-07T15:59:53.074348Z",
     "iopub.status.busy": "2023-05-07T15:59:53.073295Z",
     "iopub.status.idle": "2023-05-07T15:59:54.603782Z",
     "shell.execute_reply": "2023-05-07T15:59:54.602489Z"
    },
    "jupyter": {
     "outputs_hidden": false
    },
    "papermill": {
     "duration": 1.54754,
     "end_time": "2023-05-07T15:59:54.606724",
     "exception": false,
     "start_time": "2023-05-07T15:59:53.059184",
     "status": "completed"
    },
    "tags": []
   },
   "outputs": [
    {
     "name": "stdout",
     "output_type": "stream",
     "text": [
      "A1= 0.068, A2= 0.132, A3= 0.804, K1= 0.077, K2= 1.963, K3= 2092.797, R^2= 0.999\n",
      "+-------------------------+--------------------------------+\n",
      "|        Half-life        | Exponential Value at Half-life |\n",
      "+-------------------------+--------------------------------+\n",
      "| Half-life 3 (12.926670) |            0.024868            |\n",
      "|  Half-life 2 (0.509442) |            0.114406            |\n",
      "|  Half-life 1 (0.000478) |            3.560829            |\n",
      "+-------------------------+--------------------------------+\n"
     ]
    },
    {
     "data": {
      "image/png": "[encoded data removed]",
      "text/plain": [
       "<Figure size 640x480 with 1 Axes>"
      ]
     },
     "metadata": {},
     "output_type": "display_data"
    },
    {
     "data": {
      "image/png": "[encoded data removed]",
      "text/plain": [
       "<Figure size 640x480 with 1 Axes>"
      ]
     },
     "metadata": {},
     "output_type": "display_data"
    }
   ],
   "source": [
    "import numpy as np\n",
    "import pandas as pd\n",
    "from scipy.optimize import curve_fit\n",
    "import matplotlib.pyplot as plt\n",
    "\n",
    "# Define the 3-parameter exponential decay function\n",
    "def exponentialhyp_decay(x, A1, A2, A3, K1, K2, K3):\n",
    "    return A1 * np.exp(-K1 * (x - time_for_mutant)) + A2 * np.exp(-K2 * (x - time_for_mutant)) + A3 * abs(1 / (1 + K3 * (x - time_for_mutant)))\n",
    "\n",
    "# Set the initial guess values for the parameters and the maximum number of function calls\n",
    "p0 = [0.189,  0.256, 0.552, 0.638, 193.822, 2451.471]\n",
    "maxfev = 10000\n",
    "\n",
    "# Get the data\n",
    "x = xiao_data_norm[\"Time (s)\"].iloc[index_for_mutant:]\n",
    "y = xiao_data_norm[\"XW05_avg\"].iloc[index_for_mutant:]\n",
    "\n",
    "# Fit the exponential decay function to the data\n",
    "popt, pcov = curve_fit(exponentialhyp_decay, x, y, p0=p0, maxfev=maxfev)\n",
    "\n",
    "# Calculate R^2\n",
    "residuals = y - exponentialhyp_decay(x, *popt)\n",
    "ss_res = np.sum(residuals**2)\n",
    "ss_tot = np.sum((y - np.mean(y))**2)\n",
    "r_squared = 1 - (ss_res / ss_tot)\n",
    "\n",
    "# Print the estimated parameters and R^2\n",
    "print(\"A1= {:.3f}, A2= {:.3f}, A3= {:.3f}, K1= {:.3f}, K2= {:.3f}, K3= {:.3f}, R^2= {:.3f}\".format(*popt, r_squared))\n",
    "\n",
    "from prettytable import PrettyTable\n",
    "\n",
    "half_life1 = np.log2(2)/popt[3]\n",
    "half_life2 = np.log2(2)/popt[4]\n",
    "half_life3 = 1/popt[5]\n",
    "val_at_half_life1 = exponentialhyp_decay(half_life1, *popt)\n",
    "val_at_half_life2 = exponentialhyp_decay(half_life2, *popt)\n",
    "val_at_half_life3 = exponentialhyp_decay(half_life3, *popt)\n",
    "\n",
    "table = PrettyTable()\n",
    "table.field_names = [\"Half-life\", \"Exponential Value at Half-life\"]\n",
    "\n",
    "table.add_row([f\"Half-life 3 ({half_life1:.6f})\", f\"{val_at_half_life1:.6f}\" + ('*' if val_at_half_life1 < 0 else '')])\n",
    "table.add_row([f\"Half-life 2 ({half_life2:.6f})\", f\"{val_at_half_life2:.6f}\" + ('*' if val_at_half_life2 < 0 else '')])\n",
    "table.add_row([f\"Half-life 1 ({half_life3:.6f})\", f\"{val_at_half_life3:.6f}\" + ('*' if val_at_half_life3 < 0 else '')])\n",
    "\n",
    "print(table)\n",
    "\n",
    "\n",
    "\n",
    "# Create a new time vector starting from the end of the actual data\n",
    "x_pred = np.linspace(x.iloc[-1], 100, 1000)\n",
    "\n",
    "# Predict the values for the new time vector\n",
    "y_pred = exponentialhyp_decay(x_pred, *popt)\n",
    "\n",
    "# Create a DataFrame with the predicted values\n",
    "pred_df = pd.DataFrame({'Time (s)': x_pred, 'XW05_avg': y_pred})\n",
    "\n",
    "# Plot the data and the fitted curve\n",
    "fig, ax = plt.subplots()\n",
    "ax.plot(x, y, 'bo', label='data')\n",
    "ax.plot(x, exponentialhyp_decay(x, *popt), 'r-', label='fit')\n",
    "plt.xscale(\"log\")\n",
    "# Set the y-axis limits to focus on the range where the half-life occurs\n",
    "ax.set_ylim(bottom=-0.1, top=1.1)\n",
    "\n",
    "# Add vertical lines for the half-life values\n",
    "ax.axvline(x=half_life3, linestyle='--', color='gray')\n",
    "ax.axvline(x=half_life2, linestyle='--', color='gray')\n",
    "ax.axvline(x=half_life1, linestyle='--', color='gray')\n",
    "# Plot the predicted values with a different color\n",
    "ax.plot(pred_df['Time (s)'], pred_df['XW05_avg'], color='green', linestyle='-')\n",
    "\n",
    "\n",
    "# Define the x range for the plots\n",
    "x_pre = np.linspace(x.iloc[-1], 100, 1000)\n",
    "y_pre = exponentialhyp_decay(x_pre, *popt)\n",
    "\n",
    "# Define the individual components of the function\n",
    "def component1(x):\n",
    "    return popt[0] * np.exp(-popt[3] * (x - time_for_mutant))\n",
    "def component2(x):\n",
    "    return popt[1] * np.exp(-popt[4] * (x - time_for_mutant))\n",
    "def component3(x):\n",
    "    return popt[2] * abs(1 / (1 + popt[5] * (x - time_for_mutant)))\n",
    "\n",
    "# Plot the individual components of the function\n",
    "fig, (ax1) = plt.subplots()\n",
    "ax1.plot(x_pred, y_pred, 'r-', label='fit')\n",
    "ax1.plot(pred_df['Time (s)'], pred_df['XW05_avg'], color='green', linestyle='-')\n",
    "ax1.fill_between(x, component2(x)+component3(x),exponentialhyp_decay(x, *popt), where=(x >=0) & (x <= 100), alpha=0.5, color='red', label='A1')\n",
    "ax1.plot(x, component2(x)+component3(x), 'orange', label='hyperbolic+A2exp')\n",
    "ax1.fill_between(x, component3(x),component2(x)+component3(x), where=(x >=0) & (x <= 100), alpha=0.5, color='orange', label='A2')\n",
    "ax1.plot(x, component3(x), 'yellow', label='hyperbolic')\n",
    "ax1.plot(x, exponentialhyp_decay(x, *popt), 'r-', label='fit')\n",
    "ax1.fill_between(x, 0,component3(x), where=(x >=0) & (x <= 100), alpha=0.5, color='yellow', label='A3')\n",
    "ax1.set_xlabel('Time (s)')\n",
    "ax1.set_ylabel('Exponential Decay')\n",
    "plt.xscale(\"log\")\n",
    "ax1.legend()\n",
    "\n",
    "# Add vertical lines for the half-life values\n",
    "ax1.axvline(x=half_life3, linestyle='--', color='gray')\n",
    "ax1.axvline(x=half_life2, linestyle='--', color='gray')\n",
    "ax1.axvline(x=half_life1, linestyle='--', color='gray')\n",
    "\n",
    "# Add a legend to the plot\n",
    "ax1.legend()\n",
    "\n",
    "\n",
    "plt.show()"
   ]
  }
 ],
 "metadata": {
  "kernelspec": {
   "display_name": "Python 3",
   "language": "python",
   "name": "python3"
  },
  "language_info": {
   "codemirror_mode": {
    "name": "ipython",
    "version": 3
   },
   "file_extension": ".py",
   "mimetype": "text/x-python",
   "name": "python",
   "nbconvert_exporter": "python",
   "pygments_lexer": "ipython3",
   "version": "3.7.12"
  },
  "papermill": {
   "default_parameters": {},
   "duration": 19.197049,
   "end_time": "2023-05-07T15:59:55.443461",
   "environment_variables": {},
   "exception": null,
   "input_path": "__notebook__.ipynb",
   "output_path": "__notebook__.ipynb",
   "parameters": {},
   "start_time": "2023-05-07T15:59:36.246412",
   "version": "2.4.0"
  }
 },
 "nbformat": 4,
 "nbformat_minor": 5
}
